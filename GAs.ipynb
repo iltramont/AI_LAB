{
 "cells": [
  {
   "cell_type": "code",
   "execution_count": null,
   "metadata": {},
   "outputs": [],
   "source": [
    "%pip install numpy\n",
    "%pip install pymoo\n",
    "%pip install deap\n",
    "%pip install matplotlib\n",
    "%pip install plotly\n",
    "%pip install nbformat"
   ]
  },
  {
   "cell_type": "code",
   "execution_count": null,
   "metadata": {},
   "outputs": [],
   "source": [
    "import numpy as np\n",
    "from textwrap import wrap\n",
    "from deap import benchmarks\n",
    "import plotly.graph_objects as go\n",
    "from plotly.subplots import make_subplots\n",
    "from pymoo.algorithms.soo.nonconvex.ga import GA\n",
    "from pymoo.algorithms.moo.nsga2 import NSGA2\n",
    "from pymoo.optimize import minimize\n",
    "from pymoo.core.problem import Problem"
   ]
  },
  {
   "cell_type": "markdown",
   "metadata": {},
   "source": [
    "# _Genetic Algorithms_ <span style=\"margin-left: 10px; font-size: .6em;\">an introduction</span>\n",
    "\n",
    "For any question just drop me an email at luca.zanussi01@universitadipavia.it"
   ]
  },
  {
   "cell_type": "markdown",
   "metadata": {},
   "source": [
    "### Define the problem\n",
    "\n",
    "Here's a simple one, we want to minimize the following function in 6 variables (i.e., genes, in terms of the GA):\n",
    "\n",
    "$$f(\\mathbf{x}) := \\left| \\sum_{i=1}^6{x_i} - 42 \\right| \\qquad x_i \\in [0, 20]$$\n",
    "\n",
    "This translates in practice to the search for individuals in which genes, when summed, lead up to 42.\n",
    "We also want to apply this constraint to the variables of the problem:\n",
    "\n",
    "$$x_3^2 - x_1 + 2 = 0$$"
   ]
  },
  {
   "cell_type": "code",
   "execution_count": null,
   "metadata": {},
   "outputs": [],
   "source": [
    "fn = lambda X: abs(sum(X) - 42)\n",
    "co = lambda X: abs(X[2] ** 2 - X[0] + 2)\n",
    "\n",
    "class MyProblem(Problem):\n",
    "    def _evaluate(self, design, out, *args, **kwargs):\n",
    "        out['F'] = np.array([ fn(X) for X in design ])\n",
    "        out['G'] = np.array([ co(X) for X in design ])\n",
    "\n",
    "problem = MyProblem(n_var=6, n_obj=1, n_ieq_constr=1, xl=[0]*6, xu=[20]*6)"
   ]
  },
  {
   "cell_type": "markdown",
   "metadata": {},
   "source": [
    "### Run the Genetic Algorithm\n",
    "\n",
    "Pymoo wants a _problem_, an _algorithm_ and a _stopping criteria_.\n",
    "Here we wan to use the simple, basic GA with a population size of 100 and we stop it at its 100<sup>th</sup> generation."
   ]
  },
  {
   "cell_type": "code",
   "execution_count": null,
   "metadata": {},
   "outputs": [],
   "source": [
    "algorithm = GA(pop_size=100)\n",
    "stop_criteria = ('n_gen', 100)\n",
    "\n",
    "res = minimize(problem, algorithm, stop_criteria, seed=5, verbose=True)"
   ]
  },
  {
   "cell_type": "markdown",
   "metadata": {},
   "source": [
    "> The [documentation of pymoo](https://pymoo.org/index.html) is quite good, you might want to check it out!\n",
    ">\n",
    "> Also, you can give a look at the code... see the [constructor of the GA class](https://github.com/anyoptimization/pymoo/blob/2ca840e30f49bb26c8ea796490eb7d345d557703/pymoo/algorithms/soo/nonconvex/ga.py#L58)? It takes a lot of different parameters among which the implementations of _crossover_, _mutation_ and _selection_, which can be changed."
   ]
  },
  {
   "cell_type": "markdown",
   "metadata": {},
   "source": [
    "#### Analyze the result\n",
    "\n",
    "Here you can see the value of the genes, as well the minimized objective."
   ]
  },
  {
   "cell_type": "code",
   "execution_count": null,
   "metadata": {},
   "outputs": [],
   "source": [
    "print('Genes:     ', res.X)\n",
    "print('Objective: ', res.F)"
   ]
  },
  {
   "cell_type": "markdown",
   "metadata": {},
   "source": [
    "In fact, the sum of the genes is 42..."
   ]
  },
  {
   "cell_type": "code",
   "execution_count": null,
   "metadata": {},
   "outputs": [],
   "source": [
    "sum(res.X)"
   ]
  },
  {
   "cell_type": "markdown",
   "metadata": {},
   "source": [
    "...and the constraint is not violated."
   ]
  },
  {
   "cell_type": "code",
   "execution_count": null,
   "metadata": {},
   "outputs": [],
   "source": [
    "res.X[2] ** 2 - res.X[0] + 2"
   ]
  },
  {
   "cell_type": "markdown",
   "metadata": {},
   "source": [
    "## _Bonus_: an alternative problem\n",
    "\n",
    "There are lots of well-known benchmark optimization problems online,\n",
    "see [Wikipedia](https://en.wikipedia.org/wiki/Test_functions_for_optimization) or the [Pymoo documentation](https://pymoo.org/problems/test_problems.html).\n",
    "\n",
    "For example, let's see the **Ackley function**, it has a lot of global minima and it takes two variables in the range $[-32, 32]$."
   ]
  },
  {
   "cell_type": "code",
   "execution_count": null,
   "metadata": {},
   "outputs": [],
   "source": [
    "X = np.arange(-32, 32, .5)\n",
    "Y = np.arange(-32, 32, .5)\n",
    "X, Y = np.meshgrid(X, Y)\n",
    "Z = np.empty(X.shape)\n",
    "\n",
    "for i in range(X.shape[0]):\n",
    "    for j in range(X.shape[1]):\n",
    "        Z[i, j] = benchmarks.ackley((X[i, j], Y[i, j]))[0]\n",
    "\n",
    "fig = go.Figure(data=[go.Surface(z=Z, x=X, y=Y)])\n",
    "fig.update_layout(title='Ackley', autosize=False,\n",
    "                  width=800, height=500,\n",
    "                  margin=dict(l=65, r=50, b=65, t=90))\n",
    "fig.show()"
   ]
  },
  {
   "cell_type": "markdown",
   "metadata": {},
   "source": [
    "And define a problem for it, then run the GA."
   ]
  },
  {
   "cell_type": "code",
   "execution_count": null,
   "metadata": {},
   "outputs": [],
   "source": [
    "class AckleyProblem(Problem):\n",
    "    def __init__(self, **kwargs):\n",
    "        super().__init__(n_var=2, n_obj=1, xl=[-32]*2, xu=[32]*2, **kwargs)\n",
    "\n",
    "    def _evaluate(self, design, out, *args, **kwargs):\n",
    "        out['F'] = np.array([benchmarks.ackley(d) for d in design])\n",
    "\n",
    "problem = AckleyProblem()\n",
    "algorithm = GA(pop_size=100)\n",
    "stop_criteria = ('n_gen', 100)\n",
    "\n",
    "res = minimize(problem, algorithm, stop_criteria, seed=5, verbose=True)"
   ]
  },
  {
   "cell_type": "markdown",
   "metadata": {},
   "source": [
    "The GA should have correctly found the global minimum at $\\mathbf{x} = (0, 0)$."
   ]
  },
  {
   "cell_type": "code",
   "execution_count": null,
   "metadata": {},
   "outputs": [],
   "source": [
    "print('Genes:     ', res.X)\n",
    "print('Objective: ', res.F)"
   ]
  },
  {
   "cell_type": "markdown",
   "metadata": {},
   "source": [
    "## Multi-Objective optimization\n",
    "\n",
    "Here we want to minimize the Kursawe functions, we use NSGA-II since this is a multi-objective problem."
   ]
  },
  {
   "cell_type": "code",
   "execution_count": null,
   "metadata": {},
   "outputs": [],
   "source": [
    "X = np.arange(-5, 5, .1)\n",
    "Y = np.arange(-5, 5, .1)\n",
    "X, Y = np.meshgrid(X, Y)\n",
    "\n",
    "Z1 = np.empty(X.shape)\n",
    "Z2 = np.empty(X.shape)\n",
    "\n",
    "for i in range(X.shape[0]):\n",
    "    for j in range(X.shape[1]):\n",
    "        Z1[i, j], Z2[i, j] = benchmarks.kursawe((X[i, j], Y[i, j]))"
   ]
  },
  {
   "cell_type": "code",
   "execution_count": null,
   "metadata": {},
   "outputs": [],
   "source": [
    "fig = make_subplots(rows=1, cols=2,\n",
    "                    specs=[[{'is_3d': True}, {'is_3d': True}]],\n",
    "                    subplot_titles=['Kursawe <i>f<sub>1</sub></i>', 'Kursawe <i>f<sub>2</sub></i>'])\n",
    "fig.add_trace(go.Surface(x=X, y=Y, z=Z1, colorbar_x=-0.15), 1, 1)\n",
    "fig.add_trace(go.Surface(x=X, y=Y, z=Z2), 1, 2)\n",
    "fig.update_layout(height=600)\n",
    "fig.show()"
   ]
  },
  {
   "cell_type": "markdown",
   "metadata": {},
   "source": [
    "Let's define the problem for Pymoo and run NSGA-II"
   ]
  },
  {
   "cell_type": "code",
   "execution_count": null,
   "metadata": {},
   "outputs": [],
   "source": [
    "class KursaweProblem(Problem):\n",
    "    def __init__(self, **kwargs):\n",
    "        super().__init__(n_var=2, n_obj=2, xl=[-5, -5], xu=[5, 5], **kwargs)\n",
    "\n",
    "    def _evaluate(self, design, out, *args, **kwargs):\n",
    "        out['F'] = np.array([benchmarks.kursawe(d) for d in design])\n",
    "\n",
    "problem = KursaweProblem()\n",
    "algorithm = NSGA2(pop_size=100)\n",
    "stop_criteria = ('n_gen', 100)\n",
    "\n",
    "res = minimize(problem, algorithm, stop_criteria, seed=5, verbose=True)"
   ]
  },
  {
   "cell_type": "markdown",
   "metadata": {},
   "source": [
    "Differently from the single objective problem, here we have many solutions that do not dominate each other.\n",
    "\n",
    "If you get 100 solutions, all individuals in the last generation got their place on the Pareto front; this might not always be the case, especially if you perform less iterations of the GA."
   ]
  },
  {
   "cell_type": "code",
   "execution_count": null,
   "metadata": {},
   "outputs": [],
   "source": [
    "len(res.X)"
   ]
  },
  {
   "cell_type": "markdown",
   "metadata": {},
   "source": [
    "Let's pick a random solution and analyze it, we have 2 parameters (genes) and two objective values, one for each Kursawe function."
   ]
  },
  {
   "cell_type": "code",
   "execution_count": null,
   "metadata": {},
   "outputs": [],
   "source": [
    "print('Genes:      ', res.X[0])\n",
    "print('Objectives: ', res.F[0])"
   ]
  },
  {
   "cell_type": "markdown",
   "metadata": {},
   "source": [
    "As a last thing, we draw the Pareto front formed by all the non-dominated solutions to the problem."
   ]
  },
  {
   "cell_type": "code",
   "execution_count": null,
   "metadata": {},
   "outputs": [],
   "source": [
    "res_xy = res.F.T\n",
    "res_ord = np.argsort(res_xy[0])  # This is to sort individuals by their f1 value and to be able to draw a nice line to connect them\n",
    "\n",
    "fig = go.Figure(data=go.Scatter(x=res_xy[0,res_ord], y=res_xy[1,res_ord],\n",
    "                                text=[f'<b>Genes: {\"<br>\".join(wrap(str(x)))}</b>' for x in res.X],\n",
    "                                mode='lines+markers'))\n",
    "fig.update_layout(width=800, height=600, title=f'NSGA-II solutions for {problem.name()}', xaxis_title='f1', yaxis_title='f2')\n",
    "fig.show()"
   ]
  },
  {
   "cell_type": "markdown",
   "metadata": {},
   "source": [
    "_That's All Folks!_"
   ]
  }
 ],
 "metadata": {
  "kernelspec": {
   "display_name": ".venv",
   "language": "python",
   "name": "python3"
  },
  "language_info": {
   "codemirror_mode": {
    "name": "ipython",
    "version": 3
   },
   "file_extension": ".py",
   "mimetype": "text/x-python",
   "name": "python",
   "nbconvert_exporter": "python",
   "pygments_lexer": "ipython3",
   "version": "3.11.3"
  }
 },
 "nbformat": 4,
 "nbformat_minor": 2
}
