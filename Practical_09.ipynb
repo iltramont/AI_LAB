{
 "cells": [
  {
   "cell_type": "markdown",
   "id": "c7774d4c-b7c3-4bb6-9ce2-db7e16202b72",
   "metadata": {},
   "source": [
    "# RNN for sequence regression"
   ]
  },
  {
   "cell_type": "code",
   "execution_count": 1,
   "id": "c8ab1d85-4192-4e63-aab9-5a5a96d822e6",
   "metadata": {},
   "outputs": [],
   "source": [
    "import numpy as np\n",
    "import tensorflow as tf\n",
    "from tensorflow import keras\n",
    "from tensorflow.keras import layers"
   ]
  },
  {
   "cell_type": "markdown",
   "id": "1c5d0dc9-5aee-4b83-93f2-15706f1f60a1",
   "metadata": {},
   "source": [
    "### Create the test sequence"
   ]
  },
  {
   "cell_type": "code",
   "execution_count": 2,
   "id": "f321bb44-bd9a-471e-925f-d6a483abd2e8",
   "metadata": {},
   "outputs": [],
   "source": [
    "def createSequences(nseq, n_steps,low=10, delta=10):\n",
    "    X = []\n",
    "    Y = []\n",
    "    for i in range(nseq):\n",
    "        seq = np.arange(low+i*delta, low+i*delta+n_steps*delta, delta)\n",
    "        target = low+i*delta+n_steps*delta\n",
    "        X.append(seq)\n",
    "        Y.append(target)\n",
    "        \n",
    "    return (np.array(X, dtype='float32').reshape(-1,n_steps), np.array(Y, dtype='float32, ').reshape(-1,1))"
   ]
  },
  {
   "cell_type": "code",
   "execution_count": 3,
   "id": "c71ecb14-cbf6-4fa6-b13f-ec8db3da2bbc",
   "metadata": {},
   "outputs": [
    {
     "data": {
      "text/plain": [
       "(array([[ 0.,  2.,  4.],\n",
       "        [ 2.,  4.,  6.],\n",
       "        [ 4.,  6.,  8.],\n",
       "        [ 6.,  8., 10.],\n",
       "        [ 8., 10., 12.]], dtype=float32),\n",
       " array([[ 6.],\n",
       "        [ 8.],\n",
       "        [10.],\n",
       "        [12.],\n",
       "        [14.]], dtype=float32))"
      ]
     },
     "execution_count": 3,
     "metadata": {},
     "output_type": "execute_result"
    }
   ],
   "source": [
    "createSequences(5, 3,low=0, delta=2)"
   ]
  },
  {
   "cell_type": "code",
   "execution_count": 4,
   "id": "44bb8433-62a1-4900-9ec7-cffe9c060c11",
   "metadata": {},
   "outputs": [
    {
     "name": "stdout",
     "output_type": "stream",
     "text": [
      "[10. 20. 30. 40. 50.] [60.]\n",
      "[20. 30. 40. 50. 60.] [70.]\n",
      "[30. 40. 50. 60. 70.] [80.]\n",
      "[40. 50. 60. 70. 80.] [90.]\n",
      "[50. 60. 70. 80. 90.] [100.]\n",
      "[ 60.  70.  80.  90. 100.] [110.]\n",
      "[ 70.  80.  90. 100. 110.] [120.]\n",
      "[ 80.  90. 100. 110. 120.] [130.]\n",
      "[ 90. 100. 110. 120. 130.] [140.]\n",
      "[100. 110. 120. 130. 140.] [150.]\n",
      "[110. 120. 130. 140. 150.] [160.]\n",
      "[120. 130. 140. 150. 160.] [170.]\n",
      "[130. 140. 150. 160. 170.] [180.]\n",
      "[140. 150. 160. 170. 180.] [190.]\n",
      "[150. 160. 170. 180. 190.] [200.]\n",
      "[160. 170. 180. 190. 200.] [210.]\n",
      "[170. 180. 190. 200. 210.] [220.]\n",
      "[180. 190. 200. 210. 220.] [230.]\n",
      "[190. 200. 210. 220. 230.] [240.]\n",
      "[200. 210. 220. 230. 240.] [250.]\n"
     ]
    }
   ],
   "source": [
    "n_steps = 5\n",
    "X, y = createSequences(20, n_steps)\n",
    "\n",
    "for a,b in zip(X,y):\n",
    "    print(a,b)"
   ]
  },
  {
   "cell_type": "code",
   "execution_count": 5,
   "id": "467d40be-bf3f-4da9-b870-1db95efcfe8b",
   "metadata": {},
   "outputs": [
    {
     "name": "stdout",
     "output_type": "stream",
     "text": [
      "[210. 220. 230. 240. 250.] [280.]\n",
      "[220. 230. 240. 250. 260.] [290.]\n",
      "[230. 240. 250. 260. 270.] [300.]\n",
      "[240. 250. 260. 270. 280.] [310.]\n",
      "[250. 260. 270. 280. 290.] [320.]\n",
      "[260. 270. 280. 290. 300.] [330.]\n",
      "[270. 280. 290. 300. 310.] [340.]\n",
      "[280. 290. 300. 310. 320.] [350.]\n",
      "[290. 300. 310. 320. 330.] [360.]\n",
      "[300. 310. 320. 330. 340.] [370.]\n",
      "[310. 320. 330. 340. 350.] [380.]\n",
      "[320. 330. 340. 350. 360.] [390.]\n",
      "[330. 340. 350. 360. 370.] [400.]\n",
      "[340. 350. 360. 370. 380.] [410.]\n",
      "[350. 360. 370. 380. 390.] [420.]\n",
      "[360. 370. 380. 390. 400.] [430.]\n",
      "[370. 380. 390. 400. 410.] [440.]\n",
      "[380. 390. 400. 410. 420.] [450.]\n",
      "[390. 400. 410. 420. 430.] [460.]\n",
      "[400. 410. 420. 430. 440.] [470.]\n"
     ]
    }
   ],
   "source": [
    "n_steps = 5\n",
    "X1, y1 = createSequences(20, n_steps , low=210)\n",
    "y1 = y1+20\n",
    "for a,b in zip(X1,y1):\n",
    "    print(a,b)"
   ]
  },
  {
   "cell_type": "markdown",
   "id": "b70d34fa-bd21-4a94-9156-68645f5218bf",
   "metadata": {},
   "source": [
    "Reshape the data"
   ]
  },
  {
   "cell_type": "code",
   "execution_count": 6,
   "id": "eaf703d3-f0e8-4851-986d-881c83020ac0",
   "metadata": {},
   "outputs": [],
   "source": [
    "# reshape from [samples, timesteps] into [samples, timesteps, features]\n",
    "n_features = 1 \n",
    "X = X.reshape((X.shape[0], X.shape[1], n_features))"
   ]
  },
  {
   "cell_type": "markdown",
   "id": "fe59d8a5-2662-4220-9060-e11c0c5c3f5e",
   "metadata": {},
   "source": [
    "## Generating sequences from arbitrary series"
   ]
  },
  {
   "cell_type": "code",
   "execution_count": 7,
   "id": "109eb3e2-e983-4dd1-8acc-1fdf771e98ac",
   "metadata": {
    "tags": []
   },
   "outputs": [
    {
     "data": {
      "text/plain": [
       "array([210, 220, 230, 240, 250, 260, 270, 280, 290, 300, 310, 320, 330,\n",
       "       340, 350, 360, 370, 380, 390, 400, 410, 420, 430, 440, 450, 460,\n",
       "       470])"
      ]
     },
     "execution_count": 7,
     "metadata": {},
     "output_type": "execute_result"
    }
   ],
   "source": [
    "ts=np.arange(210,480,10)\n",
    "ts"
   ]
  },
  {
   "cell_type": "code",
   "execution_count": 8,
   "id": "8230413c-1398-4af3-85ed-6edb34d349ac",
   "metadata": {
    "tags": []
   },
   "outputs": [
    {
     "name": "stdout",
     "output_type": "stream",
     "text": [
      "Metal device set to: Apple M2 Pro\n"
     ]
    },
    {
     "name": "stderr",
     "output_type": "stream",
     "text": [
      "2023-12-07 11:19:05.924022: W tensorflow/tsl/platform/profile_utils/cpu_utils.cc:128] Failed to get CPU frequency: 0 Hz\n"
     ]
    }
   ],
   "source": [
    "dataset = tf.keras.utils.timeseries_dataset_from_array(ts,ts[5:],5)\n",
    "\n",
    "for batch in dataset:\n",
    "    ts_X, ts_y = batch\n",
    "    # print(ts_X,ts_y)"
   ]
  },
  {
   "cell_type": "code",
   "execution_count": 9,
   "id": "7c13ba8c-96bb-425a-8040-72b60c17baea",
   "metadata": {
    "tags": []
   },
   "outputs": [
    {
     "data": {
      "text/plain": [
       "<tf.Tensor: shape=(22, 5), dtype=int64, numpy=\n",
       "array([[210, 220, 230, 240, 250],\n",
       "       [220, 230, 240, 250, 260],\n",
       "       [230, 240, 250, 260, 270],\n",
       "       [240, 250, 260, 270, 280],\n",
       "       [250, 260, 270, 280, 290],\n",
       "       [260, 270, 280, 290, 300],\n",
       "       [270, 280, 290, 300, 310],\n",
       "       [280, 290, 300, 310, 320],\n",
       "       [290, 300, 310, 320, 330],\n",
       "       [300, 310, 320, 330, 340],\n",
       "       [310, 320, 330, 340, 350],\n",
       "       [320, 330, 340, 350, 360],\n",
       "       [330, 340, 350, 360, 370],\n",
       "       [340, 350, 360, 370, 380],\n",
       "       [350, 360, 370, 380, 390],\n",
       "       [360, 370, 380, 390, 400],\n",
       "       [370, 380, 390, 400, 410],\n",
       "       [380, 390, 400, 410, 420],\n",
       "       [390, 400, 410, 420, 430],\n",
       "       [400, 410, 420, 430, 440],\n",
       "       [410, 420, 430, 440, 450],\n",
       "       [420, 430, 440, 450, 460]])>"
      ]
     },
     "execution_count": 9,
     "metadata": {},
     "output_type": "execute_result"
    }
   ],
   "source": [
    "ts_X"
   ]
  },
  {
   "cell_type": "code",
   "execution_count": 10,
   "id": "c15829e6-94e2-4157-9259-3de9bc83346c",
   "metadata": {
    "tags": []
   },
   "outputs": [
    {
     "data": {
      "text/plain": [
       "<tf.Tensor: shape=(22,), dtype=int64, numpy=\n",
       "array([260, 270, 280, 290, 300, 310, 320, 330, 340, 350, 360, 370, 380,\n",
       "       390, 400, 410, 420, 430, 440, 450, 460, 470])>"
      ]
     },
     "execution_count": 10,
     "metadata": {},
     "output_type": "execute_result"
    }
   ],
   "source": [
    "ts_y"
   ]
  },
  {
   "cell_type": "code",
   "execution_count": 11,
   "id": "b2c40b5a-9607-4005-ba26-3c9df533bdd2",
   "metadata": {
    "tags": []
   },
   "outputs": [],
   "source": [
    "ts_a = np.arange(210,450,10)\n",
    "ts_b = np.arange(280,520,10)"
   ]
  },
  {
   "cell_type": "code",
   "execution_count": 12,
   "id": "64caf654-6f51-4dfc-a4c0-28cd4daa4080",
   "metadata": {
    "tags": []
   },
   "outputs": [
    {
     "name": "stdout",
     "output_type": "stream",
     "text": [
      "tf.Tensor(\n",
      "[[210 220 230 240 250]\n",
      " [220 230 240 250 260]\n",
      " [230 240 250 260 270]\n",
      " [240 250 260 270 280]\n",
      " [250 260 270 280 290]\n",
      " [260 270 280 290 300]\n",
      " [270 280 290 300 310]\n",
      " [280 290 300 310 320]\n",
      " [290 300 310 320 330]\n",
      " [300 310 320 330 340]\n",
      " [310 320 330 340 350]\n",
      " [320 330 340 350 360]\n",
      " [330 340 350 360 370]\n",
      " [340 350 360 370 380]\n",
      " [350 360 370 380 390]\n",
      " [360 370 380 390 400]\n",
      " [370 380 390 400 410]\n",
      " [380 390 400 410 420]\n",
      " [390 400 410 420 430]\n",
      " [400 410 420 430 440]], shape=(20, 5), dtype=int64)\n"
     ]
    }
   ],
   "source": [
    "dataset_a = tf.keras.utils.timeseries_dataset_from_array(ts_a,None,5)\n",
    "\n",
    "for batch in dataset_a:\n",
    "    ts_ab_X = batch\n",
    "    print(ts_ab_X)"
   ]
  },
  {
   "cell_type": "code",
   "execution_count": 13,
   "id": "53aefd80-ef72-4f57-b803-e9082924d201",
   "metadata": {
    "tags": []
   },
   "outputs": [
    {
     "name": "stdout",
     "output_type": "stream",
     "text": [
      "tf.Tensor(\n",
      "[[280]\n",
      " [290]\n",
      " [300]\n",
      " [310]\n",
      " [320]\n",
      " [330]\n",
      " [340]\n",
      " [350]\n",
      " [360]\n",
      " [370]\n",
      " [380]\n",
      " [390]\n",
      " [400]\n",
      " [410]\n",
      " [420]\n",
      " [430]\n",
      " [440]\n",
      " [450]\n",
      " [460]\n",
      " [470]\n",
      " [480]\n",
      " [490]\n",
      " [500]\n",
      " [510]], shape=(24, 1), dtype=int64)\n"
     ]
    }
   ],
   "source": [
    "dataset_b = tf.keras.utils.timeseries_dataset_from_array(ts_b,None,1)\n",
    "for batch in dataset_b:\n",
    "    ts_ab_y = batch\n",
    "    print(ts_ab_y)"
   ]
  },
  {
   "cell_type": "code",
   "execution_count": 14,
   "id": "24952fb9-06fc-4082-843e-05fea4138471",
   "metadata": {
    "tags": []
   },
   "outputs": [
    {
     "name": "stdout",
     "output_type": "stream",
     "text": [
      "tf.Tensor([210 220 230 240 250], shape=(5,), dtype=int64) tf.Tensor([280], shape=(1,), dtype=int64)\n",
      "tf.Tensor([220 230 240 250 260], shape=(5,), dtype=int64) tf.Tensor([290], shape=(1,), dtype=int64)\n",
      "tf.Tensor([230 240 250 260 270], shape=(5,), dtype=int64) tf.Tensor([300], shape=(1,), dtype=int64)\n",
      "tf.Tensor([240 250 260 270 280], shape=(5,), dtype=int64) tf.Tensor([310], shape=(1,), dtype=int64)\n",
      "tf.Tensor([250 260 270 280 290], shape=(5,), dtype=int64) tf.Tensor([320], shape=(1,), dtype=int64)\n",
      "tf.Tensor([260 270 280 290 300], shape=(5,), dtype=int64) tf.Tensor([330], shape=(1,), dtype=int64)\n",
      "tf.Tensor([270 280 290 300 310], shape=(5,), dtype=int64) tf.Tensor([340], shape=(1,), dtype=int64)\n",
      "tf.Tensor([280 290 300 310 320], shape=(5,), dtype=int64) tf.Tensor([350], shape=(1,), dtype=int64)\n",
      "tf.Tensor([290 300 310 320 330], shape=(5,), dtype=int64) tf.Tensor([360], shape=(1,), dtype=int64)\n",
      "tf.Tensor([300 310 320 330 340], shape=(5,), dtype=int64) tf.Tensor([370], shape=(1,), dtype=int64)\n",
      "tf.Tensor([310 320 330 340 350], shape=(5,), dtype=int64) tf.Tensor([380], shape=(1,), dtype=int64)\n",
      "tf.Tensor([320 330 340 350 360], shape=(5,), dtype=int64) tf.Tensor([390], shape=(1,), dtype=int64)\n",
      "tf.Tensor([330 340 350 360 370], shape=(5,), dtype=int64) tf.Tensor([400], shape=(1,), dtype=int64)\n",
      "tf.Tensor([340 350 360 370 380], shape=(5,), dtype=int64) tf.Tensor([410], shape=(1,), dtype=int64)\n",
      "tf.Tensor([350 360 370 380 390], shape=(5,), dtype=int64) tf.Tensor([420], shape=(1,), dtype=int64)\n",
      "tf.Tensor([360 370 380 390 400], shape=(5,), dtype=int64) tf.Tensor([430], shape=(1,), dtype=int64)\n",
      "tf.Tensor([370 380 390 400 410], shape=(5,), dtype=int64) tf.Tensor([440], shape=(1,), dtype=int64)\n",
      "tf.Tensor([380 390 400 410 420], shape=(5,), dtype=int64) tf.Tensor([450], shape=(1,), dtype=int64)\n",
      "tf.Tensor([390 400 410 420 430], shape=(5,), dtype=int64) tf.Tensor([460], shape=(1,), dtype=int64)\n",
      "tf.Tensor([400 410 420 430 440], shape=(5,), dtype=int64) tf.Tensor([470], shape=(1,), dtype=int64)\n"
     ]
    }
   ],
   "source": [
    "for tx,ty in zip(ts_ab_X, ts_ab_y):\n",
    "    print(tx,ty)"
   ]
  },
  {
   "cell_type": "markdown",
   "id": "4a386c89-0e1e-4e78-ab94-277ec41241a0",
   "metadata": {},
   "source": [
    "Create the model using a single hidden layer and one one output (we have only one target feature)"
   ]
  },
  {
   "cell_type": "code",
   "execution_count": 15,
   "id": "d01c4571-57b6-4a58-8438-9452fdae0acf",
   "metadata": {},
   "outputs": [
    {
     "name": "stdout",
     "output_type": "stream",
     "text": [
      "WARNING:tensorflow:Layer lstm will not use cuDNN kernels since it doesn't meet the criteria. It will use a generic GPU kernel as fallback when running on GPU.\n"
     ]
    }
   ],
   "source": [
    "model = tf.keras.Sequential()\n",
    "model.add(layers.LSTM(50, activation='relu', input_shape=(n_steps, n_features)))\n",
    "model.add(layers.Dense(1))"
   ]
  },
  {
   "cell_type": "code",
   "execution_count": 16,
   "id": "fbdde769-985a-4b68-a736-b4d013cc12ca",
   "metadata": {},
   "outputs": [],
   "source": [
    "# model.compile(optimizer=tf.keras.optimizers.Adam(0.01), \n",
    "#               loss=tf.keras.losses.MeanSquaredError())\n",
    "\n",
    "# for m1/m2/m3 based macs\n",
    "model.compile(optimizer=tf.keras.optimizers.legacy.Adam(0.01), \n",
    "              loss=tf.keras.losses.MeanSquaredError())"
   ]
  },
  {
   "cell_type": "code",
   "execution_count": 17,
   "id": "64d5ac2e-792e-4e9a-ae75-d2c0db8f0619",
   "metadata": {
    "scrolled": true,
    "tags": []
   },
   "outputs": [
    {
     "name": "stdout",
     "output_type": "stream",
     "text": [
      "Epoch 1/200\n",
      "1/1 [==============================] - 1s 527ms/step - loss: 30218.4258\n",
      "Epoch 2/200\n",
      "1/1 [==============================] - 0s 40ms/step - loss: 16670.3887\n",
      "Epoch 3/200\n",
      "1/1 [==============================] - 0s 35ms/step - loss: 12446.9570\n",
      "Epoch 4/200\n",
      "1/1 [==============================] - 0s 36ms/step - loss: 4342.4331\n",
      "Epoch 5/200\n",
      "1/1 [==============================] - 0s 34ms/step - loss: 249.8071\n",
      "Epoch 6/200\n",
      "1/1 [==============================] - 0s 39ms/step - loss: 4921.5454\n",
      "Epoch 7/200\n",
      "1/1 [==============================] - 0s 36ms/step - loss: 3634.9946\n",
      "Epoch 8/200\n",
      "1/1 [==============================] - 0s 36ms/step - loss: 905.2852\n",
      "Epoch 9/200\n",
      "1/1 [==============================] - 0s 33ms/step - loss: 162.9875\n",
      "Epoch 10/200\n",
      "1/1 [==============================] - 0s 39ms/step - loss: 263.8914\n",
      "Epoch 11/200\n",
      "1/1 [==============================] - 0s 35ms/step - loss: 586.3828\n",
      "Epoch 12/200\n",
      "1/1 [==============================] - 0s 40ms/step - loss: 621.7768\n",
      "Epoch 13/200\n",
      "1/1 [==============================] - 0s 36ms/step - loss: 92.6307\n",
      "Epoch 14/200\n",
      "1/1 [==============================] - 0s 35ms/step - loss: 1990.8562\n",
      "Epoch 15/200\n",
      "1/1 [==============================] - 0s 33ms/step - loss: 76.4105\n",
      "Epoch 16/200\n",
      "1/1 [==============================] - 0s 46ms/step - loss: 100.6086\n",
      "Epoch 17/200\n",
      "1/1 [==============================] - 0s 35ms/step - loss: 1630.1707\n",
      "Epoch 18/200\n",
      "1/1 [==============================] - 0s 35ms/step - loss: 1095.5193\n",
      "Epoch 19/200\n",
      "1/1 [==============================] - 0s 41ms/step - loss: 463.7188\n",
      "Epoch 20/200\n",
      "1/1 [==============================] - 0s 33ms/step - loss: 824.6348\n",
      "Epoch 21/200\n",
      "1/1 [==============================] - 0s 32ms/step - loss: 16.3532\n",
      "Epoch 22/200\n",
      "1/1 [==============================] - 0s 40ms/step - loss: 112.8534\n",
      "Epoch 23/200\n",
      "1/1 [==============================] - 0s 34ms/step - loss: 271.3708\n",
      "Epoch 24/200\n",
      "1/1 [==============================] - 0s 33ms/step - loss: 65.4006\n",
      "Epoch 25/200\n",
      "1/1 [==============================] - 0s 32ms/step - loss: 412.7691\n",
      "Epoch 26/200\n",
      "1/1 [==============================] - 0s 33ms/step - loss: 115.1698\n",
      "Epoch 27/200\n",
      "1/1 [==============================] - 0s 33ms/step - loss: 36.4915\n",
      "Epoch 28/200\n",
      "1/1 [==============================] - 0s 31ms/step - loss: 17.5735\n",
      "Epoch 29/200\n",
      "1/1 [==============================] - 0s 35ms/step - loss: 38.0862\n",
      "Epoch 30/200\n",
      "1/1 [==============================] - 0s 35ms/step - loss: 81.5036\n",
      "Epoch 31/200\n",
      "1/1 [==============================] - 0s 33ms/step - loss: 310.2442\n",
      "Epoch 32/200\n",
      "1/1 [==============================] - 0s 41ms/step - loss: 139.5447\n",
      "Epoch 33/200\n",
      "1/1 [==============================] - 0s 35ms/step - loss: 26.1389\n",
      "Epoch 34/200\n",
      "1/1 [==============================] - 0s 40ms/step - loss: 101.2753\n",
      "Epoch 35/200\n",
      "1/1 [==============================] - 0s 35ms/step - loss: 25.9462\n",
      "Epoch 36/200\n",
      "1/1 [==============================] - 0s 34ms/step - loss: 137.9623\n",
      "Epoch 37/200\n",
      "1/1 [==============================] - 0s 35ms/step - loss: 184.6308\n",
      "Epoch 38/200\n",
      "1/1 [==============================] - 0s 33ms/step - loss: 43.2712\n",
      "Epoch 39/200\n",
      "1/1 [==============================] - 0s 36ms/step - loss: 4.7203\n",
      "Epoch 40/200\n",
      "1/1 [==============================] - 0s 40ms/step - loss: 42.6988\n",
      "Epoch 41/200\n",
      "1/1 [==============================] - 0s 35ms/step - loss: 39.1013\n",
      "Epoch 42/200\n",
      "1/1 [==============================] - 0s 33ms/step - loss: 11.2723\n",
      "Epoch 43/200\n",
      "1/1 [==============================] - 0s 38ms/step - loss: 27.0178\n",
      "Epoch 44/200\n",
      "1/1 [==============================] - 0s 35ms/step - loss: 36.1859\n",
      "Epoch 45/200\n",
      "1/1 [==============================] - 0s 41ms/step - loss: 18.2901\n",
      "Epoch 46/200\n",
      "1/1 [==============================] - 0s 35ms/step - loss: 16.2512\n",
      "Epoch 47/200\n",
      "1/1 [==============================] - 0s 40ms/step - loss: 28.9624\n",
      "Epoch 48/200\n",
      "1/1 [==============================] - 0s 41ms/step - loss: 21.5510\n",
      "Epoch 49/200\n",
      "1/1 [==============================] - 0s 34ms/step - loss: 9.7786\n",
      "Epoch 50/200\n",
      "1/1 [==============================] - 0s 40ms/step - loss: 15.1408\n",
      "Epoch 51/200\n",
      "1/1 [==============================] - 0s 38ms/step - loss: 17.1807\n",
      "Epoch 52/200\n",
      "1/1 [==============================] - 0s 34ms/step - loss: 6.9453\n",
      "Epoch 53/200\n",
      "1/1 [==============================] - 0s 34ms/step - loss: 5.4699\n",
      "Epoch 54/200\n",
      "1/1 [==============================] - 0s 36ms/step - loss: 11.8311\n",
      "Epoch 55/200\n",
      "1/1 [==============================] - 0s 35ms/step - loss: 6.4040\n",
      "Epoch 56/200\n",
      "1/1 [==============================] - 0s 42ms/step - loss: 1.9456\n",
      "Epoch 57/200\n",
      "1/1 [==============================] - 0s 35ms/step - loss: 7.3458\n",
      "Epoch 58/200\n",
      "1/1 [==============================] - 0s 40ms/step - loss: 5.7802\n",
      "Epoch 59/200\n",
      "1/1 [==============================] - 0s 34ms/step - loss: 1.9775\n",
      "Epoch 60/200\n",
      "1/1 [==============================] - 0s 32ms/step - loss: 7.0901\n",
      "Epoch 61/200\n",
      "1/1 [==============================] - 0s 40ms/step - loss: 4.7665\n",
      "Epoch 62/200\n",
      "1/1 [==============================] - 0s 35ms/step - loss: 2.6081\n",
      "Epoch 63/200\n",
      "1/1 [==============================] - 0s 41ms/step - loss: 6.1579\n",
      "Epoch 64/200\n",
      "1/1 [==============================] - 0s 34ms/step - loss: 2.9541\n",
      "Epoch 65/200\n",
      "1/1 [==============================] - 0s 40ms/step - loss: 2.5345\n",
      "Epoch 66/200\n",
      "1/1 [==============================] - 0s 40ms/step - loss: 4.3877\n",
      "Epoch 67/200\n",
      "1/1 [==============================] - 0s 35ms/step - loss: 1.1294\n",
      "Epoch 68/200\n",
      "1/1 [==============================] - 0s 34ms/step - loss: 2.4375\n",
      "Epoch 69/200\n",
      "1/1 [==============================] - 0s 35ms/step - loss: 2.4401\n",
      "Epoch 70/200\n",
      "1/1 [==============================] - 0s 42ms/step - loss: 0.5703\n",
      "Epoch 71/200\n",
      "1/1 [==============================] - 0s 41ms/step - loss: 2.1215\n",
      "Epoch 72/200\n",
      "1/1 [==============================] - 0s 35ms/step - loss: 1.4332\n",
      "Epoch 73/200\n",
      "1/1 [==============================] - 0s 40ms/step - loss: 0.7161\n",
      "Epoch 74/200\n",
      "1/1 [==============================] - 0s 34ms/step - loss: 1.9111\n",
      "Epoch 75/200\n",
      "1/1 [==============================] - 0s 36ms/step - loss: 1.0866\n",
      "Epoch 76/200\n",
      "1/1 [==============================] - 0s 36ms/step - loss: 0.9509\n",
      "Epoch 77/200\n",
      "1/1 [==============================] - 0s 34ms/step - loss: 1.6986\n",
      "Epoch 78/200\n",
      "1/1 [==============================] - 0s 36ms/step - loss: 0.8395\n",
      "Epoch 79/200\n",
      "1/1 [==============================] - 0s 40ms/step - loss: 1.0704\n",
      "Epoch 80/200\n",
      "1/1 [==============================] - 0s 36ms/step - loss: 1.3101\n",
      "Epoch 81/200\n",
      "1/1 [==============================] - 0s 34ms/step - loss: 0.6180\n",
      "Epoch 82/200\n",
      "1/1 [==============================] - 0s 35ms/step - loss: 1.0084\n",
      "Epoch 83/200\n",
      "1/1 [==============================] - 0s 40ms/step - loss: 0.8504\n",
      "Epoch 84/200\n",
      "1/1 [==============================] - 0s 37ms/step - loss: 0.4948\n",
      "Epoch 85/200\n",
      "1/1 [==============================] - 0s 38ms/step - loss: 0.8634\n",
      "Epoch 86/200\n",
      "1/1 [==============================] - 0s 36ms/step - loss: 0.4774\n",
      "Epoch 87/200\n",
      "1/1 [==============================] - 0s 40ms/step - loss: 0.5466\n",
      "Epoch 88/200\n",
      "1/1 [==============================] - 0s 36ms/step - loss: 0.6498\n",
      "Epoch 89/200\n",
      "1/1 [==============================] - 0s 41ms/step - loss: 0.3580\n",
      "Epoch 90/200\n",
      "1/1 [==============================] - 0s 39ms/step - loss: 0.6276\n",
      "Epoch 91/200\n",
      "1/1 [==============================] - 0s 36ms/step - loss: 0.4186\n",
      "Epoch 92/200\n",
      "1/1 [==============================] - 0s 41ms/step - loss: 0.4727\n",
      "Epoch 93/200\n",
      "1/1 [==============================] - 0s 35ms/step - loss: 0.5215\n",
      "Epoch 94/200\n",
      "1/1 [==============================] - 0s 42ms/step - loss: 0.3627\n",
      "Epoch 95/200\n",
      "1/1 [==============================] - 0s 38ms/step - loss: 0.5209\n",
      "Epoch 96/200\n",
      "1/1 [==============================] - 0s 35ms/step - loss: 0.3482\n",
      "Epoch 97/200\n",
      "1/1 [==============================] - 0s 38ms/step - loss: 0.4271\n",
      "Epoch 98/200\n",
      "1/1 [==============================] - 0s 35ms/step - loss: 0.3753\n",
      "Epoch 99/200\n",
      "1/1 [==============================] - 0s 34ms/step - loss: 0.3237\n",
      "Epoch 100/200\n",
      "1/1 [==============================] - 0s 35ms/step - loss: 0.3796\n",
      "Epoch 101/200\n",
      "1/1 [==============================] - 0s 41ms/step - loss: 0.2700\n",
      "Epoch 102/200\n",
      "1/1 [==============================] - 0s 35ms/step - loss: 0.3424\n",
      "Epoch 103/200\n",
      "1/1 [==============================] - 0s 36ms/step - loss: 0.2700\n",
      "Epoch 104/200\n",
      "1/1 [==============================] - 0s 36ms/step - loss: 0.2867\n",
      "Epoch 105/200\n",
      "1/1 [==============================] - 0s 33ms/step - loss: 0.2876\n",
      "Epoch 106/200\n",
      "1/1 [==============================] - 0s 41ms/step - loss: 0.2480\n",
      "Epoch 107/200\n",
      "1/1 [==============================] - 0s 38ms/step - loss: 0.2902\n",
      "Epoch 108/200\n",
      "1/1 [==============================] - 0s 36ms/step - loss: 0.2381\n",
      "Epoch 109/200\n",
      "1/1 [==============================] - 0s 34ms/step - loss: 0.2709\n",
      "Epoch 110/200\n",
      "1/1 [==============================] - 0s 40ms/step - loss: 0.2440\n",
      "Epoch 111/200\n",
      "1/1 [==============================] - 0s 42ms/step - loss: 0.2432\n",
      "Epoch 112/200\n",
      "1/1 [==============================] - 0s 41ms/step - loss: 0.2469\n",
      "Epoch 113/200\n",
      "1/1 [==============================] - 0s 36ms/step - loss: 0.2210\n",
      "Epoch 114/200\n",
      "1/1 [==============================] - 0s 41ms/step - loss: 0.2385\n",
      "Epoch 115/200\n",
      "1/1 [==============================] - 0s 34ms/step - loss: 0.2087\n",
      "Epoch 116/200\n",
      "1/1 [==============================] - 0s 34ms/step - loss: 0.2222\n",
      "Epoch 117/200\n",
      "1/1 [==============================] - 0s 36ms/step - loss: 0.2031\n",
      "Epoch 118/200\n",
      "1/1 [==============================] - 0s 34ms/step - loss: 0.2044\n",
      "Epoch 119/200\n",
      "1/1 [==============================] - 0s 41ms/step - loss: 0.1993\n",
      "Epoch 120/200\n",
      "1/1 [==============================] - 0s 41ms/step - loss: 0.1902\n",
      "Epoch 121/200\n",
      "1/1 [==============================] - 0s 35ms/step - loss: 0.1944\n",
      "Epoch 122/200\n",
      "1/1 [==============================] - 0s 34ms/step - loss: 0.1808\n",
      "Epoch 123/200\n",
      "1/1 [==============================] - 0s 35ms/step - loss: 0.1877\n",
      "Epoch 124/200\n",
      "1/1 [==============================] - 0s 36ms/step - loss: 0.1745\n",
      "Epoch 125/200\n",
      "1/1 [==============================] - 0s 36ms/step - loss: 0.1798\n",
      "Epoch 126/200\n",
      "1/1 [==============================] - 0s 36ms/step - loss: 0.1695\n",
      "Epoch 127/200\n",
      "1/1 [==============================] - 0s 35ms/step - loss: 0.1712\n",
      "Epoch 128/200\n",
      "1/1 [==============================] - 0s 40ms/step - loss: 0.1645\n",
      "Epoch 129/200\n",
      "1/1 [==============================] - 0s 40ms/step - loss: 0.1630\n",
      "Epoch 130/200\n",
      "1/1 [==============================] - 0s 35ms/step - loss: 0.1593\n",
      "Epoch 131/200\n",
      "1/1 [==============================] - 0s 41ms/step - loss: 0.1554\n",
      "Epoch 132/200\n",
      "1/1 [==============================] - 0s 36ms/step - loss: 0.1538\n",
      "Epoch 133/200\n",
      "1/1 [==============================] - 0s 37ms/step - loss: 0.1487\n",
      "Epoch 134/200\n",
      "1/1 [==============================] - 0s 42ms/step - loss: 0.1483\n",
      "Epoch 135/200\n",
      "1/1 [==============================] - 0s 38ms/step - loss: 0.1429\n",
      "Epoch 136/200\n",
      "1/1 [==============================] - 0s 38ms/step - loss: 0.1428\n",
      "Epoch 137/200\n",
      "1/1 [==============================] - 0s 34ms/step - loss: 0.1377\n",
      "Epoch 138/200\n",
      "1/1 [==============================] - 0s 38ms/step - loss: 0.1376\n",
      "Epoch 139/200\n",
      "1/1 [==============================] - 0s 40ms/step - loss: 0.1329\n",
      "Epoch 140/200\n",
      "1/1 [==============================] - 0s 36ms/step - loss: 0.1325\n",
      "Epoch 141/200\n",
      "1/1 [==============================] - 0s 38ms/step - loss: 0.1283\n",
      "Epoch 142/200\n",
      "1/1 [==============================] - 0s 41ms/step - loss: 0.1275\n",
      "Epoch 143/200\n",
      "1/1 [==============================] - 0s 36ms/step - loss: 0.1237\n",
      "Epoch 144/200\n",
      "1/1 [==============================] - 0s 35ms/step - loss: 0.1226\n",
      "Epoch 145/200\n",
      "1/1 [==============================] - 0s 33ms/step - loss: 0.1192\n",
      "Epoch 146/200\n",
      "1/1 [==============================] - 0s 36ms/step - loss: 0.1178\n",
      "Epoch 147/200\n",
      "1/1 [==============================] - 0s 37ms/step - loss: 0.1148\n",
      "Epoch 148/200\n",
      "1/1 [==============================] - 0s 43ms/step - loss: 0.1132\n",
      "Epoch 149/200\n",
      "1/1 [==============================] - 0s 37ms/step - loss: 0.1105\n",
      "Epoch 150/200\n",
      "1/1 [==============================] - 0s 35ms/step - loss: 0.1089\n",
      "Epoch 151/200\n",
      "1/1 [==============================] - 0s 36ms/step - loss: 0.1064\n",
      "Epoch 152/200\n",
      "1/1 [==============================] - 0s 37ms/step - loss: 0.1048\n",
      "Epoch 153/200\n",
      "1/1 [==============================] - 0s 47ms/step - loss: 0.1025\n",
      "Epoch 154/200\n",
      "1/1 [==============================] - 0s 38ms/step - loss: 0.1008\n",
      "Epoch 155/200\n",
      "1/1 [==============================] - 0s 36ms/step - loss: 0.0987\n",
      "Epoch 156/200\n",
      "1/1 [==============================] - 0s 40ms/step - loss: 0.0970\n",
      "Epoch 157/200\n",
      "1/1 [==============================] - 0s 42ms/step - loss: 0.0950\n",
      "Epoch 158/200\n",
      "1/1 [==============================] - 0s 39ms/step - loss: 0.0934\n",
      "Epoch 159/200\n",
      "1/1 [==============================] - 0s 38ms/step - loss: 0.0914\n",
      "Epoch 160/200\n",
      "1/1 [==============================] - 0s 39ms/step - loss: 0.0898\n",
      "Epoch 161/200\n",
      "1/1 [==============================] - 0s 35ms/step - loss: 0.0879\n",
      "Epoch 162/200\n",
      "1/1 [==============================] - 0s 34ms/step - loss: 0.0864\n",
      "Epoch 163/200\n",
      "1/1 [==============================] - 0s 34ms/step - loss: 0.0845\n",
      "Epoch 164/200\n",
      "1/1 [==============================] - 0s 37ms/step - loss: 0.0830\n",
      "Epoch 165/200\n",
      "1/1 [==============================] - 0s 41ms/step - loss: 0.0813\n",
      "Epoch 166/200\n",
      "1/1 [==============================] - 0s 36ms/step - loss: 0.0798\n",
      "Epoch 167/200\n",
      "1/1 [==============================] - 0s 34ms/step - loss: 0.0782\n",
      "Epoch 168/200\n",
      "1/1 [==============================] - 0s 37ms/step - loss: 0.0767\n",
      "Epoch 169/200\n",
      "1/1 [==============================] - 0s 39ms/step - loss: 0.0751\n",
      "Epoch 170/200\n",
      "1/1 [==============================] - 0s 35ms/step - loss: 0.0738\n",
      "Epoch 171/200\n",
      "1/1 [==============================] - 0s 35ms/step - loss: 0.0722\n",
      "Epoch 172/200\n",
      "1/1 [==============================] - 0s 37ms/step - loss: 0.0709\n",
      "Epoch 173/200\n",
      "1/1 [==============================] - 0s 36ms/step - loss: 0.0694\n",
      "Epoch 174/200\n",
      "1/1 [==============================] - 0s 38ms/step - loss: 0.0681\n",
      "Epoch 175/200\n",
      "1/1 [==============================] - 0s 38ms/step - loss: 0.0667\n",
      "Epoch 176/200\n",
      "1/1 [==============================] - 0s 40ms/step - loss: 0.0654\n",
      "Epoch 177/200\n",
      "1/1 [==============================] - 0s 35ms/step - loss: 0.0641\n",
      "Epoch 178/200\n",
      "1/1 [==============================] - 0s 36ms/step - loss: 0.0628\n",
      "Epoch 179/200\n",
      "1/1 [==============================] - 0s 37ms/step - loss: 0.0616\n",
      "Epoch 180/200\n",
      "1/1 [==============================] - 0s 36ms/step - loss: 0.0603\n",
      "Epoch 181/200\n",
      "1/1 [==============================] - 0s 40ms/step - loss: 0.0592\n",
      "Epoch 182/200\n",
      "1/1 [==============================] - 0s 37ms/step - loss: 0.0580\n",
      "Epoch 183/200\n",
      "1/1 [==============================] - 0s 36ms/step - loss: 0.0568\n",
      "Epoch 184/200\n",
      "1/1 [==============================] - 0s 38ms/step - loss: 0.0557\n",
      "Epoch 185/200\n",
      "1/1 [==============================] - 0s 38ms/step - loss: 0.0546\n",
      "Epoch 186/200\n",
      "1/1 [==============================] - 0s 34ms/step - loss: 0.0534\n",
      "Epoch 187/200\n",
      "1/1 [==============================] - 0s 46ms/step - loss: 0.0524\n",
      "Epoch 188/200\n",
      "1/1 [==============================] - 0s 37ms/step - loss: 0.0513\n",
      "Epoch 189/200\n",
      "1/1 [==============================] - 0s 33ms/step - loss: 0.0503\n",
      "Epoch 190/200\n",
      "1/1 [==============================] - 0s 40ms/step - loss: 0.0493\n",
      "Epoch 191/200\n",
      "1/1 [==============================] - 0s 35ms/step - loss: 0.0483\n",
      "Epoch 192/200\n",
      "1/1 [==============================] - 0s 36ms/step - loss: 0.0473\n",
      "Epoch 193/200\n",
      "1/1 [==============================] - 0s 41ms/step - loss: 0.0463\n",
      "Epoch 194/200\n",
      "1/1 [==============================] - 0s 39ms/step - loss: 0.0454\n",
      "Epoch 195/200\n",
      "1/1 [==============================] - 0s 36ms/step - loss: 0.0445\n",
      "Epoch 196/200\n",
      "1/1 [==============================] - 0s 36ms/step - loss: 0.0436\n",
      "Epoch 197/200\n",
      "1/1 [==============================] - 0s 43ms/step - loss: 0.0427\n",
      "Epoch 198/200\n",
      "1/1 [==============================] - 0s 35ms/step - loss: 0.0418\n",
      "Epoch 199/200\n",
      "1/1 [==============================] - 0s 35ms/step - loss: 0.0410\n",
      "Epoch 200/200\n",
      "1/1 [==============================] - 0s 36ms/step - loss: 0.0401\n"
     ]
    },
    {
     "data": {
      "text/plain": [
       "<keras.callbacks.History at 0x1068de160>"
      ]
     },
     "execution_count": 17,
     "metadata": {},
     "output_type": "execute_result"
    }
   ],
   "source": [
    "# model.fit(X, y, epochs=200, batch_size=64, verbose=1)\n",
    "model.fit(X, y, epochs=200, verbose=1)"
   ]
  },
  {
   "cell_type": "markdown",
   "id": "00692232-8987-4b9b-b84c-3950ef196b6e",
   "metadata": {},
   "source": [
    "### Test the performace of RNN"
   ]
  },
  {
   "cell_type": "code",
   "execution_count": 18,
   "id": "8272aa1e-9c51-4abd-9af2-1144460e5fe8",
   "metadata": {},
   "outputs": [
    {
     "data": {
      "text/plain": [
       "array([[[ 95],\n",
       "        [105],\n",
       "        [115],\n",
       "        [125],\n",
       "        [135]]])"
      ]
     },
     "execution_count": 18,
     "metadata": {},
     "output_type": "execute_result"
    }
   ],
   "source": [
    "test_data = np.array([95, 105, 115, 125, 135])\n",
    "test_data = test_data.reshape((1, n_steps, n_features))\n",
    "test_data"
   ]
  },
  {
   "cell_type": "code",
   "execution_count": 19,
   "id": "6e2f6d10-ce1f-43a5-ba32-573a4ef651a0",
   "metadata": {},
   "outputs": [
    {
     "name": "stdout",
     "output_type": "stream",
     "text": [
      "1/1 [==============================] - 0s 115ms/step\n",
      "[[145.14166]]\n"
     ]
    }
   ],
   "source": [
    "predictNextNumber = model.predict(test_data, verbose=1)\n",
    "print(predictNextNumber)"
   ]
  },
  {
   "cell_type": "code",
   "execution_count": 20,
   "id": "da78248c-0a1d-4e97-ae48-15fa93bd402b",
   "metadata": {},
   "outputs": [
    {
     "data": {
      "text/plain": [
       "array([[[250],\n",
       "        [260],\n",
       "        [270],\n",
       "        [280],\n",
       "        [290]]])"
      ]
     },
     "execution_count": 20,
     "metadata": {},
     "output_type": "execute_result"
    }
   ],
   "source": [
    "test_data = np.arange(250, 300, 10)\n",
    "test_data = test_data.reshape((1, n_steps, n_features))\n",
    "test_data"
   ]
  },
  {
   "cell_type": "code",
   "execution_count": 21,
   "id": "c8a06d29-683d-47d0-86fa-211941525484",
   "metadata": {},
   "outputs": [
    {
     "name": "stdout",
     "output_type": "stream",
     "text": [
      "1/1 [==============================] - 0s 16ms/step\n",
      "[[301.22098]]\n"
     ]
    }
   ],
   "source": [
    "predictNextNumber = model.predict(test_data, verbose=1)\n",
    "print(predictNextNumber)"
   ]
  },
  {
   "cell_type": "code",
   "execution_count": 22,
   "id": "a85479cf-34f8-49aa-b6aa-7a518b5d8254",
   "metadata": {},
   "outputs": [
    {
     "name": "stdout",
     "output_type": "stream",
     "text": [
      "Model: \"sequential\"\n",
      "_________________________________________________________________\n",
      " Layer (type)                Output Shape              Param #   \n",
      "=================================================================\n",
      " lstm (LSTM)                 (None, 50)                10400     \n",
      "                                                                 \n",
      " dense (Dense)               (None, 1)                 51        \n",
      "                                                                 \n",
      "=================================================================\n",
      "Total params: 10,451\n",
      "Trainable params: 10,451\n",
      "Non-trainable params: 0\n",
      "_________________________________________________________________\n"
     ]
    }
   ],
   "source": [
    "model.summary()"
   ]
  },
  {
   "cell_type": "markdown",
   "id": "3d18ba31-96d1-4e1b-b8c0-e848951756f3",
   "metadata": {},
   "source": [
    "# RNN for Sequence Classification"
   ]
  },
  {
   "cell_type": "code",
   "execution_count": 23,
   "id": "73f83293-0f0e-4b83-9338-ea28ed332342",
   "metadata": {},
   "outputs": [
    {
     "name": "stdout",
     "output_type": "stream",
     "text": [
      "[[10. 20. 30. 40. 50.]] 0\n",
      "[[20. 30. 40. 50. 60.]] 0\n",
      "[[30. 40. 50. 60. 70.]] 0\n",
      "[[40. 50. 60. 70. 80.]] 0\n",
      "[[50. 60. 70. 80. 90.]] 0\n",
      "[[ 60.  70.  80.  90. 100.]] 0\n",
      "[[ 70.  80.  90. 100. 110.]] 0\n",
      "[[ 80.  90. 100. 110. 120.]] 0\n",
      "[[ 90. 100. 110. 120. 130.]] 0\n",
      "[[100. 110. 120. 130. 140.]] 0\n",
      "[[110. 120. 130. 140. 150.]] 0\n",
      "[[120. 130. 140. 150. 160.]] 1\n",
      "[[130. 140. 150. 160. 170.]] 1\n",
      "[[140. 150. 160. 170. 180.]] 1\n",
      "[[150. 160. 170. 180. 190.]] 1\n",
      "[[160. 170. 180. 190. 200.]] 1\n",
      "[[170. 180. 190. 200. 210.]] 1\n",
      "[[180. 190. 200. 210. 220.]] 1\n",
      "[[190. 200. 210. 220. 230.]] 1\n",
      "[[200. 210. 220. 230. 240.]] 1\n"
     ]
    }
   ],
   "source": [
    "threshold=700\n",
    "\n",
    "\n",
    "y = [ 0 if x<threshold else 1 for x in np.sum(X, axis=1)]\n",
    "\n",
    "y = np.array(y)\n",
    "for a,b in zip(X,y):\n",
    "    print(np.transpose(a), b)"
   ]
  },
  {
   "cell_type": "code",
   "execution_count": 24,
   "id": "3c8f9ec8-e5c5-45f7-a12b-ded9e339605d",
   "metadata": {},
   "outputs": [
    {
     "data": {
      "text/plain": [
       "(5, 1)"
      ]
     },
     "execution_count": 24,
     "metadata": {},
     "output_type": "execute_result"
    }
   ],
   "source": [
    "(n_steps, n_features)"
   ]
  },
  {
   "cell_type": "code",
   "execution_count": 25,
   "id": "a313496f-cd98-41f8-bce2-5e82ad190ec7",
   "metadata": {},
   "outputs": [
    {
     "name": "stdout",
     "output_type": "stream",
     "text": [
      "WARNING:tensorflow:Layer lstm_1 will not use cuDNN kernels since it doesn't meet the criteria. It will use a generic GPU kernel as fallback when running on GPU.\n"
     ]
    }
   ],
   "source": [
    "classificator = tf.keras.Sequential()\n",
    "classificator.add(layers.LSTM(50, activation='relu', input_shape=(n_steps, n_features)))\n",
    "classificator.add(layers.Dense(1, activation='sigmoid'))"
   ]
  },
  {
   "cell_type": "code",
   "execution_count": 26,
   "id": "11d44a96-e212-4bfe-9890-1fdb2970c021",
   "metadata": {},
   "outputs": [
    {
     "name": "stdout",
     "output_type": "stream",
     "text": [
      "Model: \"sequential_1\"\n",
      "_________________________________________________________________\n",
      " Layer (type)                Output Shape              Param #   \n",
      "=================================================================\n",
      " lstm_1 (LSTM)               (None, 50)                10400     \n",
      "                                                                 \n",
      " dense_1 (Dense)             (None, 1)                 51        \n",
      "                                                                 \n",
      "=================================================================\n",
      "Total params: 10,451\n",
      "Trainable params: 10,451\n",
      "Non-trainable params: 0\n",
      "_________________________________________________________________\n"
     ]
    }
   ],
   "source": [
    "# classificator.compile(optimizer=tf.keras.optimizers.Adam(0.01), loss='binary_crossentropy', \n",
    "#                       metrics =['accuracy'])\n",
    "\n",
    "classificator.compile(optimizer=tf.keras.optimizers.legacy.Adam(0.01), loss='binary_crossentropy', \n",
    "                      metrics =['accuracy'])\n",
    "\n",
    "classificator.summary()"
   ]
  },
  {
   "cell_type": "code",
   "execution_count": 27,
   "id": "32091322-695e-4acc-b611-4980f246ebb2",
   "metadata": {
    "scrolled": true,
    "tags": []
   },
   "outputs": [
    {
     "name": "stdout",
     "output_type": "stream",
     "text": [
      "Epoch 1/200\n",
      "1/1 [==============================] - 1s 543ms/step - loss: 9.2242 - accuracy: 0.5500\n",
      "Epoch 2/200\n",
      "1/1 [==============================] - 0s 40ms/step - loss: 1.2359 - accuracy: 0.4000\n",
      "Epoch 3/200\n"
     ]
    },
    {
     "name": "stderr",
     "output_type": "stream",
     "text": [
      "loc(\"mps_select\"(\"(mpsFileLoc): /AppleInternal/Library/BuildRoots/495c257e-668e-11ee-93ce-926038f30c31/Library/Caches/com.apple.xbs/Sources/MetalPerformanceShadersGraph/mpsgraph/MetalPerformanceShadersGraph/Core/Files/MPSGraphUtilities.mm\":294:0)): error: 'anec.gain_offset_control' op result #0 must be 4D/5D memref of 16-bit float or 8-bit signed integer or 8-bit unsigned integer values, but got 'memref<1x20x1x1xi1>'\n",
      "loc(\"mps_select\"(\"(mpsFileLoc): /AppleInternal/Library/BuildRoots/495c257e-668e-11ee-93ce-926038f30c31/Library/Caches/com.apple.xbs/Sources/MetalPerformanceShadersGraph/mpsgraph/MetalPerformanceShadersGraph/Core/Files/MPSGraphUtilities.mm\":294:0)): error: 'anec.gain_offset_control' op result #0 must be 4D/5D memref of 16-bit float or 8-bit signed integer or 8-bit unsigned integer values, but got 'memref<1x20x1x1xi1>'\n",
      "loc(\"mps_select\"(\"(mpsFileLoc): /AppleInternal/Library/BuildRoots/495c257e-668e-11ee-93ce-926038f30c31/Library/Caches/com.apple.xbs/Sources/MetalPerformanceShadersGraph/mpsgraph/MetalPerformanceShadersGraph/Core/Files/MPSGraphUtilities.mm\":294:0)): error: 'anec.gain_offset_control' op result #0 must be 4D/5D memref of 16-bit float or 8-bit signed integer or 8-bit unsigned integer values, but got 'memref<1x20x1x1xi1>'\n",
      "loc(\"mps_select\"(\"(mpsFileLoc): /AppleInternal/Library/BuildRoots/495c257e-668e-11ee-93ce-926038f30c31/Library/Caches/com.apple.xbs/Sources/MetalPerformanceShadersGraph/mpsgraph/MetalPerformanceShadersGraph/Core/Files/MPSGraphUtilities.mm\":294:0)): error: 'anec.gain_offset_control' op result #0 must be 4D/5D memref of 16-bit float or 8-bit signed integer or 8-bit unsigned integer values, but got 'memref<1x20x1x1xi1>'\n",
      "loc(\"mps_select\"(\"(mpsFileLoc): /AppleInternal/Library/BuildRoots/495c257e-668e-11ee-93ce-926038f30c31/Library/Caches/com.apple.xbs/Sources/MetalPerformanceShadersGraph/mpsgraph/MetalPerformanceShadersGraph/Core/Files/MPSGraphUtilities.mm\":294:0)): error: 'anec.gain_offset_control' op result #0 must be 4D/5D memref of 16-bit float or 8-bit signed integer or 8-bit unsigned integer values, but got 'memref<1x20x1x1xi1>'\n"
     ]
    },
    {
     "name": "stdout",
     "output_type": "stream",
     "text": [
      "1/1 [==============================] - 0s 39ms/step - loss: 1.0233 - accuracy: 0.5500\n",
      "Epoch 4/200\n",
      "1/1 [==============================] - 0s 39ms/step - loss: 5.5932 - accuracy: 0.5500\n",
      "Epoch 5/200\n",
      "1/1 [==============================] - 0s 44ms/step - loss: 0.8617 - accuracy: 0.7000\n",
      "Epoch 6/200\n",
      "1/1 [==============================] - 0s 39ms/step - loss: 0.7596 - accuracy: 0.7000\n",
      "Epoch 7/200\n",
      "1/1 [==============================] - 0s 40ms/step - loss: 2.8301 - accuracy: 0.5500\n",
      "Epoch 8/200\n",
      "1/1 [==============================] - 0s 40ms/step - loss: 0.5230 - accuracy: 0.7500\n",
      "Epoch 9/200\n",
      "1/1 [==============================] - 0s 42ms/step - loss: 0.2171 - accuracy: 0.9000\n",
      "Epoch 10/200\n",
      "1/1 [==============================] - 0s 40ms/step - loss: 7.2551 - accuracy: 0.5500\n",
      "Epoch 11/200\n",
      "1/1 [==============================] - 0s 41ms/step - loss: 1.7573 - accuracy: 0.5500\n",
      "Epoch 12/200\n",
      "1/1 [==============================] - 0s 45ms/step - loss: 0.7671 - accuracy: 0.7000\n",
      "Epoch 13/200\n",
      "1/1 [==============================] - 0s 37ms/step - loss: 1.1893 - accuracy: 0.6000\n",
      "Epoch 14/200\n",
      "1/1 [==============================] - 0s 43ms/step - loss: 1.1068 - accuracy: 0.6000\n",
      "Epoch 15/200\n",
      "1/1 [==============================] - 0s 40ms/step - loss: 0.6125 - accuracy: 0.6000\n",
      "Epoch 16/200\n",
      "1/1 [==============================] - 0s 37ms/step - loss: 0.7913 - accuracy: 0.5500\n",
      "Epoch 17/200\n",
      "1/1 [==============================] - 0s 38ms/step - loss: 0.4606 - accuracy: 0.8500\n",
      "Epoch 18/200\n",
      "1/1 [==============================] - 0s 39ms/step - loss: 0.3673 - accuracy: 0.8000\n",
      "Epoch 19/200\n",
      "1/1 [==============================] - 0s 38ms/step - loss: 0.3313 - accuracy: 0.8000\n",
      "Epoch 20/200\n",
      "1/1 [==============================] - 0s 36ms/step - loss: 0.3095 - accuracy: 0.9000\n",
      "Epoch 21/200\n",
      "1/1 [==============================] - 0s 36ms/step - loss: 0.2027 - accuracy: 0.9000\n",
      "Epoch 22/200\n",
      "1/1 [==============================] - 0s 41ms/step - loss: 0.1176 - accuracy: 1.0000\n",
      "Epoch 23/200\n",
      "1/1 [==============================] - 0s 42ms/step - loss: 115.9158 - accuracy: 0.5500\n",
      "Epoch 24/200\n",
      "1/1 [==============================] - 0s 37ms/step - loss: 0.2598 - accuracy: 0.9500\n",
      "Epoch 25/200\n",
      "1/1 [==============================] - 0s 40ms/step - loss: 0.3171 - accuracy: 0.8500\n",
      "Epoch 26/200\n",
      "1/1 [==============================] - 0s 39ms/step - loss: 0.4193 - accuracy: 0.7500\n",
      "Epoch 27/200\n",
      "1/1 [==============================] - 0s 42ms/step - loss: 0.4925 - accuracy: 0.7500\n",
      "Epoch 28/200\n",
      "1/1 [==============================] - 0s 37ms/step - loss: 0.5573 - accuracy: 0.7000\n",
      "Epoch 29/200\n",
      "1/1 [==============================] - 0s 37ms/step - loss: 0.6043 - accuracy: 0.6500\n",
      "Epoch 30/200\n",
      "1/1 [==============================] - 0s 42ms/step - loss: 0.6240 - accuracy: 0.6500\n",
      "Epoch 31/200\n",
      "1/1 [==============================] - 0s 36ms/step - loss: 0.6235 - accuracy: 0.6500\n",
      "Epoch 32/200\n",
      "1/1 [==============================] - 0s 43ms/step - loss: 0.6207 - accuracy: 0.6000\n",
      "Epoch 33/200\n",
      "1/1 [==============================] - 0s 35ms/step - loss: 0.6280 - accuracy: 0.6000\n",
      "Epoch 34/200\n",
      "1/1 [==============================] - 0s 46ms/step - loss: 0.6426 - accuracy: 0.5500\n",
      "Epoch 35/200\n",
      "1/1 [==============================] - 0s 38ms/step - loss: 0.6524 - accuracy: 0.5500\n",
      "Epoch 36/200\n",
      "1/1 [==============================] - 0s 37ms/step - loss: 0.6469 - accuracy: 0.5500\n",
      "Epoch 37/200\n",
      "1/1 [==============================] - 0s 44ms/step - loss: 0.6220 - accuracy: 0.6000\n",
      "Epoch 38/200\n",
      "1/1 [==============================] - 0s 43ms/step - loss: 0.5801 - accuracy: 0.6000\n",
      "Epoch 39/200\n",
      "1/1 [==============================] - 0s 37ms/step - loss: 1.0541 - accuracy: 0.5500\n",
      "Epoch 40/200\n",
      "1/1 [==============================] - 0s 38ms/step - loss: 0.5490 - accuracy: 0.6500\n",
      "Epoch 41/200\n",
      "1/1 [==============================] - 0s 42ms/step - loss: 0.5676 - accuracy: 0.6500\n",
      "Epoch 42/200\n",
      "1/1 [==============================] - 0s 40ms/step - loss: 0.5781 - accuracy: 0.6500\n",
      "Epoch 43/200\n",
      "1/1 [==============================] - 0s 44ms/step - loss: 0.5814 - accuracy: 0.6000\n",
      "Epoch 44/200\n",
      "1/1 [==============================] - 0s 37ms/step - loss: 0.5815 - accuracy: 0.6000\n",
      "Epoch 45/200\n",
      "1/1 [==============================] - 0s 43ms/step - loss: 0.5818 - accuracy: 0.6000\n",
      "Epoch 46/200\n",
      "1/1 [==============================] - 0s 35ms/step - loss: 0.5820 - accuracy: 0.6000\n",
      "Epoch 47/200\n",
      "1/1 [==============================] - 0s 42ms/step - loss: 0.5808 - accuracy: 0.6000\n",
      "Epoch 48/200\n",
      "1/1 [==============================] - 0s 37ms/step - loss: 0.5771 - accuracy: 0.6000\n",
      "Epoch 49/200\n",
      "1/1 [==============================] - 0s 35ms/step - loss: 0.5714 - accuracy: 0.6000\n",
      "Epoch 50/200\n",
      "1/1 [==============================] - 0s 43ms/step - loss: 0.5654 - accuracy: 0.6000\n",
      "Epoch 51/200\n",
      "1/1 [==============================] - 0s 37ms/step - loss: 0.5601 - accuracy: 0.6500\n",
      "Epoch 52/200\n",
      "1/1 [==============================] - 0s 44ms/step - loss: 0.5552 - accuracy: 0.6500\n",
      "Epoch 53/200\n",
      "1/1 [==============================] - 0s 42ms/step - loss: 0.5496 - accuracy: 0.6500\n",
      "Epoch 54/200\n",
      "1/1 [==============================] - 0s 38ms/step - loss: 0.5428 - accuracy: 0.6500\n",
      "Epoch 55/200\n",
      "1/1 [==============================] - 0s 38ms/step - loss: 0.5355 - accuracy: 0.6500\n",
      "Epoch 56/200\n",
      "1/1 [==============================] - 0s 36ms/step - loss: 0.5288 - accuracy: 0.6500\n",
      "Epoch 57/200\n",
      "1/1 [==============================] - 0s 43ms/step - loss: 0.5226 - accuracy: 0.6500\n",
      "Epoch 58/200\n",
      "1/1 [==============================] - 0s 35ms/step - loss: 0.5162 - accuracy: 0.6500\n",
      "Epoch 59/200\n",
      "1/1 [==============================] - 0s 37ms/step - loss: 0.5090 - accuracy: 0.7000\n",
      "Epoch 60/200\n",
      "1/1 [==============================] - 0s 38ms/step - loss: 0.5014 - accuracy: 0.7000\n",
      "Epoch 61/200\n",
      "1/1 [==============================] - 0s 38ms/step - loss: 0.4940 - accuracy: 0.7000\n",
      "Epoch 62/200\n",
      "1/1 [==============================] - 0s 37ms/step - loss: 0.4869 - accuracy: 0.7500\n",
      "Epoch 63/200\n",
      "1/1 [==============================] - 0s 35ms/step - loss: 0.4799 - accuracy: 0.7500\n",
      "Epoch 64/200\n",
      "1/1 [==============================] - 0s 43ms/step - loss: 0.4724 - accuracy: 0.7500\n",
      "Epoch 65/200\n",
      "1/1 [==============================] - 0s 36ms/step - loss: 0.4647 - accuracy: 0.8000\n",
      "Epoch 66/200\n",
      "1/1 [==============================] - 0s 38ms/step - loss: 0.4570 - accuracy: 0.8000\n",
      "Epoch 67/200\n",
      "1/1 [==============================] - 0s 36ms/step - loss: 0.4497 - accuracy: 0.8000\n",
      "Epoch 68/200\n",
      "1/1 [==============================] - 0s 38ms/step - loss: 0.4423 - accuracy: 0.8000\n",
      "Epoch 69/200\n",
      "1/1 [==============================] - 0s 36ms/step - loss: 0.4346 - accuracy: 0.8000\n",
      "Epoch 70/200\n",
      "1/1 [==============================] - 0s 38ms/step - loss: 0.4269 - accuracy: 0.8000\n",
      "Epoch 71/200\n",
      "1/1 [==============================] - 0s 36ms/step - loss: 0.4193 - accuracy: 0.8500\n",
      "Epoch 72/200\n",
      "1/1 [==============================] - 0s 36ms/step - loss: 0.4119 - accuracy: 0.8500\n",
      "Epoch 73/200\n",
      "1/1 [==============================] - 0s 42ms/step - loss: 0.4044 - accuracy: 0.8500\n",
      "Epoch 74/200\n",
      "1/1 [==============================] - 0s 47ms/step - loss: 0.3967 - accuracy: 0.8500\n",
      "Epoch 75/200\n",
      "1/1 [==============================] - 0s 41ms/step - loss: 0.3890 - accuracy: 0.8500\n",
      "Epoch 76/200\n",
      "1/1 [==============================] - 0s 43ms/step - loss: 0.3813 - accuracy: 0.8500\n",
      "Epoch 77/200\n",
      "1/1 [==============================] - 0s 38ms/step - loss: 0.3737 - accuracy: 0.8500\n",
      "Epoch 78/200\n",
      "1/1 [==============================] - 0s 36ms/step - loss: 0.3658 - accuracy: 0.8500\n",
      "Epoch 79/200\n",
      "1/1 [==============================] - 0s 43ms/step - loss: 0.3578 - accuracy: 0.8500\n",
      "Epoch 80/200\n",
      "1/1 [==============================] - 0s 37ms/step - loss: 0.3497 - accuracy: 0.9000\n",
      "Epoch 81/200\n",
      "1/1 [==============================] - 0s 43ms/step - loss: 0.3413 - accuracy: 0.9000\n",
      "Epoch 82/200\n",
      "1/1 [==============================] - 0s 42ms/step - loss: 0.3324 - accuracy: 0.9000\n",
      "Epoch 83/200\n",
      "1/1 [==============================] - 0s 38ms/step - loss: 0.3229 - accuracy: 0.9000\n",
      "Epoch 84/200\n",
      "1/1 [==============================] - 0s 35ms/step - loss: 0.3128 - accuracy: 0.9000\n",
      "Epoch 85/200\n",
      "1/1 [==============================] - 0s 42ms/step - loss: 0.3015 - accuracy: 0.9000\n",
      "Epoch 86/200\n",
      "1/1 [==============================] - 0s 43ms/step - loss: 0.2883 - accuracy: 0.9000\n",
      "Epoch 87/200\n",
      "1/1 [==============================] - 0s 43ms/step - loss: 0.2723 - accuracy: 0.9000\n",
      "Epoch 88/200\n",
      "1/1 [==============================] - 0s 39ms/step - loss: 0.2515 - accuracy: 0.9500\n",
      "Epoch 89/200\n",
      "1/1 [==============================] - 0s 37ms/step - loss: 0.2226 - accuracy: 0.9500\n",
      "Epoch 90/200\n",
      "1/1 [==============================] - 0s 37ms/step - loss: 0.1828 - accuracy: 1.0000\n",
      "Epoch 91/200\n",
      "1/1 [==============================] - 0s 50ms/step - loss: 0.1652 - accuracy: 0.9500\n",
      "Epoch 92/200\n",
      "1/1 [==============================] - 0s 43ms/step - loss: 0.1192 - accuracy: 1.0000\n",
      "Epoch 93/200\n",
      "1/1 [==============================] - 0s 37ms/step - loss: 0.1201 - accuracy: 0.9500\n",
      "Epoch 94/200\n",
      "1/1 [==============================] - 0s 36ms/step - loss: 0.0982 - accuracy: 0.9500\n",
      "Epoch 95/200\n",
      "1/1 [==============================] - 0s 36ms/step - loss: 0.1408 - accuracy: 0.9000\n",
      "Epoch 96/200\n",
      "1/1 [==============================] - 0s 37ms/step - loss: 0.1235 - accuracy: 0.9500\n",
      "Epoch 97/200\n",
      "1/1 [==============================] - 0s 43ms/step - loss: 0.3194 - accuracy: 0.8500\n",
      "Epoch 98/200\n",
      "1/1 [==============================] - 0s 37ms/step - loss: 0.3026 - accuracy: 0.8500\n",
      "Epoch 99/200\n",
      "1/1 [==============================] - 0s 43ms/step - loss: 0.0707 - accuracy: 0.9500\n",
      "Epoch 100/200\n",
      "1/1 [==============================] - 0s 38ms/step - loss: 0.4068 - accuracy: 0.8500\n",
      "Epoch 101/200\n",
      "1/1 [==============================] - 0s 45ms/step - loss: 0.4272 - accuracy: 0.8000\n",
      "Epoch 102/200\n",
      "1/1 [==============================] - 0s 41ms/step - loss: 0.7000 - accuracy: 0.7500\n",
      "Epoch 103/200\n",
      "1/1 [==============================] - 0s 45ms/step - loss: 0.6723 - accuracy: 0.7500\n",
      "Epoch 104/200\n",
      "1/1 [==============================] - 0s 37ms/step - loss: 0.4814 - accuracy: 0.7500\n",
      "Epoch 105/200\n",
      "1/1 [==============================] - 0s 38ms/step - loss: 0.2763 - accuracy: 0.8500\n",
      "Epoch 106/200\n",
      "1/1 [==============================] - 0s 39ms/step - loss: 0.3094 - accuracy: 0.9000\n",
      "Epoch 107/200\n",
      "1/1 [==============================] - 0s 36ms/step - loss: 0.5937 - accuracy: 0.5500\n",
      "Epoch 108/200\n",
      "1/1 [==============================] - 0s 39ms/step - loss: 0.5623 - accuracy: 0.5500\n",
      "Epoch 109/200\n",
      "1/1 [==============================] - 0s 44ms/step - loss: 0.2980 - accuracy: 0.9500\n",
      "Epoch 110/200\n",
      "1/1 [==============================] - 0s 37ms/step - loss: 0.2437 - accuracy: 0.9000\n",
      "Epoch 111/200\n",
      "1/1 [==============================] - 0s 39ms/step - loss: 0.3306 - accuracy: 0.8000\n",
      "Epoch 112/200\n",
      "1/1 [==============================] - 0s 39ms/step - loss: 0.3805 - accuracy: 0.8000\n",
      "Epoch 113/200\n",
      "1/1 [==============================] - 0s 43ms/step - loss: 0.3197 - accuracy: 0.8500\n",
      "Epoch 114/200\n",
      "1/1 [==============================] - 0s 39ms/step - loss: 0.1573 - accuracy: 0.9000\n",
      "Epoch 115/200\n",
      "1/1 [==============================] - 0s 38ms/step - loss: 0.2469 - accuracy: 0.8500\n",
      "Epoch 116/200\n",
      "1/1 [==============================] - 0s 40ms/step - loss: 0.1343 - accuracy: 0.9500\n",
      "Epoch 117/200\n",
      "1/1 [==============================] - 0s 38ms/step - loss: 0.1256 - accuracy: 0.9500\n",
      "Epoch 118/200\n",
      "1/1 [==============================] - 0s 38ms/step - loss: 0.1822 - accuracy: 0.9000\n",
      "Epoch 119/200\n",
      "1/1 [==============================] - 0s 35ms/step - loss: 0.1770 - accuracy: 0.9000\n",
      "Epoch 120/200\n",
      "1/1 [==============================] - 0s 40ms/step - loss: 0.1257 - accuracy: 0.9500\n",
      "Epoch 121/200\n",
      "1/1 [==============================] - 0s 44ms/step - loss: 0.1265 - accuracy: 0.9500\n",
      "Epoch 122/200\n",
      "1/1 [==============================] - 0s 37ms/step - loss: 0.1696 - accuracy: 0.9000\n",
      "Epoch 123/200\n",
      "1/1 [==============================] - 0s 37ms/step - loss: 0.1076 - accuracy: 1.0000\n",
      "Epoch 124/200\n",
      "1/1 [==============================] - 0s 39ms/step - loss: 0.1215 - accuracy: 0.9500\n",
      "Epoch 125/200\n",
      "1/1 [==============================] - 0s 44ms/step - loss: 0.1374 - accuracy: 0.9500\n",
      "Epoch 126/200\n",
      "1/1 [==============================] - 0s 44ms/step - loss: 0.1035 - accuracy: 0.9500\n",
      "Epoch 127/200\n",
      "1/1 [==============================] - 0s 42ms/step - loss: 0.0917 - accuracy: 0.9500\n",
      "Epoch 128/200\n",
      "1/1 [==============================] - 0s 44ms/step - loss: 0.1190 - accuracy: 0.9500\n",
      "Epoch 129/200\n",
      "1/1 [==============================] - 0s 43ms/step - loss: 0.0774 - accuracy: 1.0000\n",
      "Epoch 130/200\n",
      "1/1 [==============================] - 0s 36ms/step - loss: 0.1124 - accuracy: 0.9500\n",
      "Epoch 131/200\n",
      "1/1 [==============================] - 0s 37ms/step - loss: 0.0678 - accuracy: 1.0000\n",
      "Epoch 132/200\n",
      "1/1 [==============================] - 0s 39ms/step - loss: 0.1317 - accuracy: 0.9500\n",
      "Epoch 133/200\n",
      "1/1 [==============================] - 0s 44ms/step - loss: 0.0919 - accuracy: 0.9500\n",
      "Epoch 134/200\n",
      "1/1 [==============================] - 0s 40ms/step - loss: 0.1234 - accuracy: 0.9500\n",
      "Epoch 135/200\n",
      "1/1 [==============================] - 0s 38ms/step - loss: 0.0528 - accuracy: 1.0000\n",
      "Epoch 136/200\n",
      "1/1 [==============================] - 0s 43ms/step - loss: 0.1629 - accuracy: 0.9000\n",
      "Epoch 137/200\n",
      "1/1 [==============================] - 0s 35ms/step - loss: 0.1565 - accuracy: 0.9000\n",
      "Epoch 138/200\n",
      "1/1 [==============================] - 0s 37ms/step - loss: 0.2361 - accuracy: 0.9000\n",
      "Epoch 139/200\n",
      "1/1 [==============================] - 0s 36ms/step - loss: 0.1101 - accuracy: 0.9500\n",
      "Epoch 140/200\n",
      "1/1 [==============================] - 0s 38ms/step - loss: 0.1195 - accuracy: 0.9500\n",
      "Epoch 141/200\n",
      "1/1 [==============================] - 0s 39ms/step - loss: 0.1427 - accuracy: 0.9000\n",
      "Epoch 142/200\n",
      "1/1 [==============================] - 0s 44ms/step - loss: 0.0762 - accuracy: 0.9500\n",
      "Epoch 143/200\n",
      "1/1 [==============================] - 0s 46ms/step - loss: 0.1382 - accuracy: 0.9000\n",
      "Epoch 144/200\n",
      "1/1 [==============================] - 0s 41ms/step - loss: 0.1333 - accuracy: 0.9500\n",
      "Epoch 145/200\n",
      "1/1 [==============================] - 0s 40ms/step - loss: 0.0896 - accuracy: 0.9500\n",
      "Epoch 146/200\n",
      "1/1 [==============================] - 0s 40ms/step - loss: 0.0985 - accuracy: 0.9500\n",
      "Epoch 147/200\n",
      "1/1 [==============================] - 0s 44ms/step - loss: 0.1324 - accuracy: 0.9500\n",
      "Epoch 148/200\n",
      "1/1 [==============================] - 0s 37ms/step - loss: 0.0965 - accuracy: 0.9500\n",
      "Epoch 149/200\n",
      "1/1 [==============================] - 0s 38ms/step - loss: 0.0892 - accuracy: 1.0000\n",
      "Epoch 150/200\n",
      "1/1 [==============================] - 0s 39ms/step - loss: 0.1084 - accuracy: 0.9500\n",
      "Epoch 151/200\n",
      "1/1 [==============================] - 0s 38ms/step - loss: 0.1064 - accuracy: 0.9500\n",
      "Epoch 152/200\n",
      "1/1 [==============================] - 0s 39ms/step - loss: 0.0817 - accuracy: 1.0000\n",
      "Epoch 153/200\n",
      "1/1 [==============================] - 0s 42ms/step - loss: 0.0770 - accuracy: 1.0000\n",
      "Epoch 154/200\n",
      "1/1 [==============================] - 0s 38ms/step - loss: 0.0952 - accuracy: 0.9500\n",
      "Epoch 155/200\n",
      "1/1 [==============================] - 0s 36ms/step - loss: 0.0666 - accuracy: 1.0000\n",
      "Epoch 156/200\n",
      "1/1 [==============================] - 0s 36ms/step - loss: 0.0673 - accuracy: 0.9500\n",
      "Epoch 157/200\n",
      "1/1 [==============================] - 0s 39ms/step - loss: 0.0750 - accuracy: 0.9500\n",
      "Epoch 158/200\n",
      "1/1 [==============================] - 0s 44ms/step - loss: 0.0510 - accuracy: 1.0000\n",
      "Epoch 159/200\n",
      "1/1 [==============================] - 0s 39ms/step - loss: 0.0687 - accuracy: 0.9500\n",
      "Epoch 160/200\n",
      "1/1 [==============================] - 0s 44ms/step - loss: 0.0432 - accuracy: 1.0000\n",
      "Epoch 161/200\n",
      "1/1 [==============================] - 0s 42ms/step - loss: 0.0549 - accuracy: 0.9500\n",
      "Epoch 162/200\n",
      "1/1 [==============================] - 0s 41ms/step - loss: 0.0411 - accuracy: 1.0000\n",
      "Epoch 163/200\n",
      "1/1 [==============================] - 0s 39ms/step - loss: 0.0579 - accuracy: 0.9500\n",
      "Epoch 164/200\n",
      "1/1 [==============================] - 0s 37ms/step - loss: 0.0426 - accuracy: 1.0000\n",
      "Epoch 165/200\n",
      "1/1 [==============================] - 0s 38ms/step - loss: 0.0398 - accuracy: 1.0000\n",
      "Epoch 166/200\n",
      "1/1 [==============================] - 0s 44ms/step - loss: 0.0603 - accuracy: 0.9500\n",
      "Epoch 167/200\n",
      "1/1 [==============================] - 0s 38ms/step - loss: 0.0771 - accuracy: 0.9500\n",
      "Epoch 168/200\n",
      "1/1 [==============================] - 0s 35ms/step - loss: 0.0356 - accuracy: 1.0000\n",
      "Epoch 169/200\n",
      "1/1 [==============================] - 0s 39ms/step - loss: 0.1760 - accuracy: 0.9500\n",
      "Epoch 170/200\n",
      "1/1 [==============================] - 0s 38ms/step - loss: 0.3325 - accuracy: 0.9000\n",
      "Epoch 171/200\n",
      "1/1 [==============================] - 0s 42ms/step - loss: 0.4335 - accuracy: 0.8500\n",
      "Epoch 172/200\n",
      "1/1 [==============================] - 0s 39ms/step - loss: 0.1721 - accuracy: 0.9000\n",
      "Epoch 173/200\n",
      "1/1 [==============================] - 0s 38ms/step - loss: 0.1384 - accuracy: 0.9500\n",
      "Epoch 174/200\n",
      "1/1 [==============================] - 0s 41ms/step - loss: 0.1889 - accuracy: 0.9000\n",
      "Epoch 175/200\n",
      "1/1 [==============================] - 0s 41ms/step - loss: 0.0678 - accuracy: 0.9500\n",
      "Epoch 176/200\n",
      "1/1 [==============================] - 0s 44ms/step - loss: 0.1580 - accuracy: 0.9000\n",
      "Epoch 177/200\n",
      "1/1 [==============================] - 0s 44ms/step - loss: 0.1633 - accuracy: 0.9000\n",
      "Epoch 178/200\n",
      "1/1 [==============================] - 0s 38ms/step - loss: 0.1127 - accuracy: 0.9500\n",
      "Epoch 179/200\n",
      "1/1 [==============================] - 0s 39ms/step - loss: 0.1031 - accuracy: 1.0000\n",
      "Epoch 180/200\n",
      "1/1 [==============================] - 0s 45ms/step - loss: 0.1588 - accuracy: 0.9500\n",
      "Epoch 181/200\n",
      "1/1 [==============================] - 0s 44ms/step - loss: 0.1670 - accuracy: 0.9500\n",
      "Epoch 182/200\n",
      "1/1 [==============================] - 0s 40ms/step - loss: 0.1186 - accuracy: 1.0000\n",
      "Epoch 183/200\n",
      "1/1 [==============================] - 0s 51ms/step - loss: 0.1077 - accuracy: 0.9500\n",
      "Epoch 184/200\n",
      "1/1 [==============================] - 0s 45ms/step - loss: 0.1329 - accuracy: 0.9500\n",
      "Epoch 185/200\n",
      "1/1 [==============================] - 0s 43ms/step - loss: 0.1400 - accuracy: 0.9000\n",
      "Epoch 186/200\n",
      "1/1 [==============================] - 0s 37ms/step - loss: 0.1141 - accuracy: 0.9500\n",
      "Epoch 187/200\n",
      "1/1 [==============================] - 0s 38ms/step - loss: 0.0854 - accuracy: 1.0000\n",
      "Epoch 188/200\n",
      "1/1 [==============================] - 0s 39ms/step - loss: 0.0931 - accuracy: 0.9500\n",
      "Epoch 189/200\n",
      "1/1 [==============================] - 0s 45ms/step - loss: 0.1114 - accuracy: 0.9500\n",
      "Epoch 190/200\n",
      "1/1 [==============================] - 0s 39ms/step - loss: 0.0864 - accuracy: 0.9500\n",
      "Epoch 191/200\n",
      "1/1 [==============================] - 0s 38ms/step - loss: 0.0661 - accuracy: 1.0000\n",
      "Epoch 192/200\n",
      "1/1 [==============================] - 0s 39ms/step - loss: 0.0749 - accuracy: 0.9500\n",
      "Epoch 193/200\n",
      "1/1 [==============================] - 0s 39ms/step - loss: 0.0770 - accuracy: 0.9500\n",
      "Epoch 194/200\n",
      "1/1 [==============================] - 0s 41ms/step - loss: 0.0579 - accuracy: 1.0000\n",
      "Epoch 195/200\n",
      "1/1 [==============================] - 0s 41ms/step - loss: 0.0506 - accuracy: 1.0000\n",
      "Epoch 196/200\n",
      "1/1 [==============================] - 0s 39ms/step - loss: 0.0667 - accuracy: 0.9500\n",
      "Epoch 197/200\n",
      "1/1 [==============================] - 0s 38ms/step - loss: 0.0479 - accuracy: 1.0000\n",
      "Epoch 198/200\n",
      "1/1 [==============================] - 0s 37ms/step - loss: 0.0430 - accuracy: 1.0000\n",
      "Epoch 199/200\n",
      "1/1 [==============================] - 0s 43ms/step - loss: 0.0524 - accuracy: 0.9500\n",
      "Epoch 200/200\n",
      "1/1 [==============================] - 0s 44ms/step - loss: 0.0380 - accuracy: 1.0000\n"
     ]
    },
    {
     "data": {
      "text/plain": [
       "<keras.callbacks.History at 0x29bf1de20>"
      ]
     },
     "execution_count": 27,
     "metadata": {},
     "output_type": "execute_result"
    }
   ],
   "source": [
    "classificator.fit(X, y.reshape(-1,1), epochs=200, verbose=1)"
   ]
  },
  {
   "cell_type": "code",
   "execution_count": 28,
   "id": "8978e05a-cc8b-402b-aeb8-0f64082e28cf",
   "metadata": {},
   "outputs": [
    {
     "name": "stdout",
     "output_type": "stream",
     "text": [
      "1/1 [==============================] - 0s 92ms/step\n",
      "attribute sum 350 prediction 0.000\n"
     ]
    }
   ],
   "source": [
    "test_data = np.array([90, 100, 10, 20, 130])\n",
    "test_data = test_data.reshape((1, n_steps, n_features))\n",
    "pred = classificator.predict(test_data)\n",
    "\n",
    "print('attribute sum {} prediction {:.3f}'.format(np.sum(test_data), float(pred)))"
   ]
  },
  {
   "cell_type": "code",
   "execution_count": 29,
   "id": "f9040b3e-2fdd-4521-952f-16c6a4405af3",
   "metadata": {},
   "outputs": [
    {
     "name": "stdout",
     "output_type": "stream",
     "text": [
      "1/1 [==============================] - 0s 15ms/step\n",
      "attribute sum 1150 prediction 1.000\n"
     ]
    }
   ],
   "source": [
    "test_data = np.array([240, 250, 210, 220, 230])\n",
    "test_data = test_data.reshape((1, n_steps, n_features))\n",
    "pred = classificator.predict(test_data)\n",
    "print('attribute sum {} prediction {:.3f}'.format(np.sum(test_data), float(pred)))\n"
   ]
  },
  {
   "cell_type": "code",
   "execution_count": null,
   "id": "b37f7585-c6ed-4513-99d3-71f2a57787d8",
   "metadata": {},
   "outputs": [],
   "source": []
  }
 ],
 "metadata": {
  "kernelspec": {
   "display_name": "Python 3 (ipykernel)",
   "language": "python",
   "name": "python3"
  },
  "language_info": {
   "codemirror_mode": {
    "name": "ipython",
    "version": 3
   },
   "file_extension": ".py",
   "mimetype": "text/x-python",
   "name": "python",
   "nbconvert_exporter": "python",
   "pygments_lexer": "ipython3",
   "version": "3.9.6"
  }
 },
 "nbformat": 4,
 "nbformat_minor": 5
}
