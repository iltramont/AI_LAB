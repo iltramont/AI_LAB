{
 "cells": [
  {
   "cell_type": "markdown",
   "id": "neutral-stylus",
   "metadata": {},
   "source": [
    "# Some pratical tips & trics for python\n",
    "\n",
    "## String manipulation\n",
    "\n",
    "We want to combine some variables into a string"
   ]
  },
  {
   "cell_type": "code",
   "execution_count": 1,
   "id": "challenging-programming",
   "metadata": {
    "ExecuteTime": {
     "end_time": "2024-06-06T13:43:43.697946Z",
     "start_time": "2024-06-06T13:43:43.681983Z"
    }
   },
   "outputs": [
    {
     "name": "stdout",
     "output_type": "stream",
     "text": [
      "Append to this string the content of an int variable    10\n"
     ]
    }
   ],
   "source": [
    "x=10\n",
    "s=\"Append to this string the content of an int variable %5d\" % x\n",
    "print(s)"
   ]
  },
  {
   "cell_type": "code",
   "execution_count": 2,
   "id": "muslim-christopher",
   "metadata": {
    "scrolled": true,
    "tags": [],
    "ExecuteTime": {
     "end_time": "2024-06-06T13:43:46.336174Z",
     "start_time": "2024-06-06T13:43:45.491137Z"
    }
   },
   "outputs": [
    {
     "name": "stdout",
     "output_type": "stream",
     "text": [
      "The value of PI is 3.141593\n"
     ]
    }
   ],
   "source": [
    "import numpy as np\n",
    "\n",
    "piString = \"The value of PI is %f\"%np.pi\n",
    "print(piString)"
   ]
  },
  {
   "cell_type": "code",
   "execution_count": 3,
   "id": "512f2bfd-dfea-42cc-b58c-e969f46e427e",
   "metadata": {
    "ExecuteTime": {
     "end_time": "2024-06-06T13:43:59.443808Z",
     "start_time": "2024-06-06T13:43:59.437989Z"
    }
   },
   "outputs": [
    {
     "name": "stdout",
     "output_type": "stream",
     "text": [
      "The value of PI is 3.141593 other data\n"
     ]
    }
   ],
   "source": [
    "piString = \"The value of PI is %f %s\"%(np.pi, 'other data')\n",
    "print(piString)"
   ]
  },
  {
   "cell_type": "code",
   "execution_count": 4,
   "id": "plastic-sheffield",
   "metadata": {
    "ExecuteTime": {
     "end_time": "2024-06-06T13:44:04.894182Z",
     "start_time": "2024-06-06T13:44:04.885483Z"
    }
   },
   "outputs": [
    {
     "data": {
      "text/plain": "'Hello Daniele, PI=3.141592653589793'"
     },
     "execution_count": 4,
     "metadata": {},
     "output_type": "execute_result"
    }
   ],
   "source": [
    "# Another example, using the .format method of the String object\n",
    "\"Hello {}, PI={}\".format('Daniele', np.pi)"
   ]
  },
  {
   "cell_type": "code",
   "execution_count": 5,
   "id": "overhead-reunion",
   "metadata": {
    "ExecuteTime": {
     "end_time": "2024-06-06T13:44:05.526846Z",
     "start_time": "2024-06-06T13:44:05.515015Z"
    }
   },
   "outputs": [
    {
     "data": {
      "text/plain": "'PI=   3.14159'"
     },
     "execution_count": 5,
     "metadata": {},
     "output_type": "execute_result"
    }
   ],
   "source": [
    "\"PI={:10.5f}\".format(np.pi)"
   ]
  },
  {
   "cell_type": "code",
   "execution_count": 6,
   "id": "lovely-cosmetic",
   "metadata": {
    "ExecuteTime": {
     "end_time": "2024-06-06T13:44:06.529948Z",
     "start_time": "2024-06-06T13:44:06.514114Z"
    }
   },
   "outputs": [
    {
     "data": {
      "text/plain": "'PI=3.142'"
     },
     "execution_count": 6,
     "metadata": {},
     "output_type": "execute_result"
    }
   ],
   "source": [
    "\"PI={:.3f}\".format(np.pi)"
   ]
  },
  {
   "cell_type": "markdown",
   "id": "f3f7cd0d-7165-4ebb-866d-422f8cb34cac",
   "metadata": {},
   "source": [
    "<B> The <EM>fString</EM> </B>"
   ]
  },
  {
   "cell_type": "code",
   "execution_count": 7,
   "id": "273dafc9-15a6-4e49-9137-4575987767d8",
   "metadata": {
    "ExecuteTime": {
     "end_time": "2024-06-06T13:44:09.845259Z",
     "start_time": "2024-06-06T13:44:09.832801Z"
    }
   },
   "outputs": [
    {
     "data": {
      "text/plain": "'The value of PI is 3.141592653589793'"
     },
     "execution_count": 7,
     "metadata": {},
     "output_type": "execute_result"
    }
   ],
   "source": [
    "f'The value of PI is {np.pi}'"
   ]
  },
  {
   "cell_type": "code",
   "execution_count": 8,
   "id": "f20e282b-6b76-44e6-93dd-b52887e7ab36",
   "metadata": {
    "ExecuteTime": {
     "end_time": "2024-06-06T13:44:12.339448Z",
     "start_time": "2024-06-06T13:44:12.331734Z"
    }
   },
   "outputs": [
    {
     "data": {
      "text/plain": "'The approximated value of PI is 3.14'"
     },
     "execution_count": 8,
     "metadata": {},
     "output_type": "execute_result"
    }
   ],
   "source": [
    "f'The approximated value of PI is {np.pi:.3}'"
   ]
  },
  {
   "cell_type": "markdown",
   "id": "resident-moore",
   "metadata": {},
   "source": [
    "### More on string format at:\n",
    "\n",
    "https://realpython.com/python-string-formatting/\n",
    "\n",
    "https://pyformat.info/"
   ]
  },
  {
   "cell_type": "markdown",
   "id": "binary-syndrome",
   "metadata": {},
   "source": [
    "## Python List Comprehension\n",
    "\n",
    "More details at https://www.programiz.com/python-programming/list-comprehension\n",
    "\n",
    "A pratical example: we want to generate a list of labels, each lablel is equal to x_NN with NN varying form 1 up to 20"
   ]
  },
  {
   "cell_type": "code",
   "execution_count": 9,
   "id": "reported-theorem",
   "metadata": {
    "tags": [],
    "ExecuteTime": {
     "end_time": "2024-06-06T13:44:30.442633Z",
     "start_time": "2024-06-06T13:44:30.429038Z"
    }
   },
   "outputs": [
    {
     "data": {
      "text/plain": "['x_0',\n 'x_1',\n 'x_2',\n 'x_3',\n 'x_4',\n 'x_5',\n 'x_6',\n 'x_7',\n 'x_8',\n 'x_9',\n 'x_10',\n 'x_11',\n 'x_12',\n 'x_13',\n 'x_14',\n 'x_15',\n 'x_16',\n 'x_17',\n 'x_18',\n 'x_19']"
     },
     "execution_count": 9,
     "metadata": {},
     "output_type": "execute_result"
    }
   ],
   "source": [
    "xlabels = []\n",
    "for i in range(20):\n",
    "    xlabels.append(\"x_%d\" % i)\n",
    "\n",
    "xlabels"
   ]
  },
  {
   "cell_type": "code",
   "execution_count": 10,
   "id": "banned-gardening",
   "metadata": {
    "ExecuteTime": {
     "end_time": "2024-06-06T13:44:43.020633Z",
     "start_time": "2024-06-06T13:44:42.999523Z"
    }
   },
   "outputs": [
    {
     "data": {
      "text/plain": "[0, 1, 2, 3, 4, 5, 6, 7, 8, 9]"
     },
     "execution_count": 10,
     "metadata": {},
     "output_type": "execute_result"
    }
   ],
   "source": [
    "a=[ x for x in range(10)]\n",
    "a"
   ]
  },
  {
   "cell_type": "code",
   "execution_count": 11,
   "id": "recovered-password",
   "metadata": {
    "ExecuteTime": {
     "end_time": "2024-06-06T13:44:49.597491Z",
     "start_time": "2024-06-06T13:44:49.589763Z"
    }
   },
   "outputs": [
    {
     "data": {
      "text/plain": "[1, 2, 4, 8, 16, 32, 64, 128, 256, 512]"
     },
     "execution_count": 11,
     "metadata": {},
     "output_type": "execute_result"
    }
   ],
   "source": [
    "[ 2**x for x in range(10)]"
   ]
  },
  {
   "cell_type": "code",
   "execution_count": 12,
   "id": "positive-granny",
   "metadata": {
    "ExecuteTime": {
     "end_time": "2024-06-06T13:44:49.939232Z",
     "start_time": "2024-06-06T13:44:49.922697Z"
    }
   },
   "outputs": [
    {
     "name": "stdout",
     "output_type": "stream",
     "text": [
      "['x_00', 'x_01', 'x_02', 'x_03', 'x_04', 'x_05', 'x_06', 'x_07', 'x_08', 'x_09', 'x_10', 'x_11', 'x_12', 'x_13', 'x_14', 'x_15', 'x_16', 'x_17', 'x_18', 'x_19']\n"
     ]
    }
   ],
   "source": [
    "xlabels = [ 'x_%02d'%i for i in range(20)]\n",
    "print(xlabels)"
   ]
  },
  {
   "cell_type": "code",
   "execution_count": 13,
   "id": "4bb74e3b-8c77-44f7-8016-f2b6233bb9f3",
   "metadata": {
    "ExecuteTime": {
     "end_time": "2024-06-06T13:44:50.703358Z",
     "start_time": "2024-06-06T13:44:50.689055Z"
    }
   },
   "outputs": [
    {
     "data": {
      "text/plain": "[3, 5, 7]"
     },
     "execution_count": 13,
     "metadata": {},
     "output_type": "execute_result"
    }
   ],
   "source": [
    "def myfun(x):\n",
    "    return 2*x+1\n",
    "\n",
    "[myfun(x) for x in [1,2,3]]"
   ]
  },
  {
   "cell_type": "code",
   "execution_count": 14,
   "id": "1ecd854f-57b8-45f4-aaf5-788e8c6fdf9d",
   "metadata": {},
   "outputs": [
    {
     "data": {
      "text/plain": [
       "[0, 1, 0, 1, 0, 1, 0, 1, 0, 1]"
      ]
     },
     "execution_count": 14,
     "metadata": {},
     "output_type": "execute_result"
    }
   ],
   "source": [
    "mylist = [ 0, 1, 2, 3, 4, 5, 6, 7, 8, 9 ]\n",
    "# 0 even -- 1 odd \n",
    "[ 0 if x % 2==0 else 1 for x in mylist]"
   ]
  },
  {
   "cell_type": "markdown",
   "id": "expected-sentence",
   "metadata": {},
   "source": [
    "## List/tuple expansion (on function call)"
   ]
  },
  {
   "cell_type": "code",
   "execution_count": 15,
   "id": "conscious-resource",
   "metadata": {},
   "outputs": [
    {
     "name": "stdout",
     "output_type": "stream",
     "text": [
      "print the tuple as single element (1, 2, 3)\n",
      "print each tuple element as indivudual element 1 2 3\n",
      "print each tuple element as indivudual element 1 2 3\n"
     ]
    }
   ],
   "source": [
    "params=(1,2,3)\n",
    "\n",
    "print('print the tuple as single element',params)\n",
    "print('print each tuple element as indivudual element', *params)\n",
    "print('print each tuple element as indivudual element', params[0], params[1], params[2])"
   ]
  },
  {
   "cell_type": "code",
   "execution_count": 16,
   "id": "6a8f81de-4c89-4414-9596-f80b14996152",
   "metadata": {},
   "outputs": [
    {
     "name": "stdout",
     "output_type": "stream",
     "text": [
      "(1, 'two', [1, 2])\n"
     ]
    }
   ],
   "source": [
    "def myFun(*args): \n",
    "    print(args)\n",
    "\n",
    "myFun(1, 'two', [1,2])"
   ]
  },
  {
   "cell_type": "markdown",
   "id": "bored-surname",
   "metadata": {},
   "source": [
    "The special syntax **kwargs in function definitions in python is used to pass a keyworded, variable-length argument list. We use the name kwargs with the double star. The reason is because the double star allows us to pass through keyword arguments (and any number of them)."
   ]
  },
  {
   "cell_type": "code",
   "execution_count": 17,
   "id": "anonymous-satin",
   "metadata": {},
   "outputs": [
    {
     "name": "stdout",
     "output_type": "stream",
     "text": [
      "first = Geeks\n",
      "mid = for\n",
      "last = Geeks\n"
     ]
    }
   ],
   "source": [
    "def myFun(**kwargs): \n",
    "    for key, value in kwargs.items():\n",
    "        print (\"%s = %s\" %(key, value))\n",
    "  \n",
    "# Driver code\n",
    "myFun(first ='Geeks', mid ='for', last='Geeks') "
   ]
  },
  {
   "cell_type": "code",
   "execution_count": 14,
   "id": "excessive-module",
   "metadata": {
    "ExecuteTime": {
     "end_time": "2024-06-06T13:45:55.055755Z",
     "start_time": "2024-06-06T13:45:55.050382Z"
    }
   },
   "outputs": [
    {
     "name": "stdout",
     "output_type": "stream",
     "text": [
      "args:  ('geeks', 'for', 'geeks')\n",
      "kwargs:  {'first': 'Geeks', 'mid': 'for', 'last': 'Geeks'}\n"
     ]
    }
   ],
   "source": [
    "def myFun(*args,**kwargs):\n",
    "    print(\"args: \", args)\n",
    "    print(\"kwargs: \", kwargs)\n",
    "  \n",
    "  \n",
    "# Now we can use both *args ,**kwargs\n",
    "# to pass arguments to this function :\n",
    "myFun('geeks','for','geeks',first=\"Geeks\",mid=\"for\",last=\"Geeks\")"
   ]
  },
  {
   "cell_type": "code",
   "execution_count": 15,
   "id": "floating-vegetable",
   "metadata": {
    "ExecuteTime": {
     "end_time": "2024-06-06T13:46:01.390619Z",
     "start_time": "2024-06-06T13:46:01.379258Z"
    }
   },
   "outputs": [
    {
     "name": "stdout",
     "output_type": "stream",
     "text": [
      "args:  ()\n",
      "kwargs:  {}\n"
     ]
    }
   ],
   "source": [
    "# we can also call the function without any argument\n",
    "myFun()"
   ]
  },
  {
   "cell_type": "markdown",
   "id": "f3bd00a1-d633-472d-bc4f-0519719f4063",
   "metadata": {},
   "source": [
    "### positional arguments can not follows keyword argument\n",
    "\n",
    "\n",
    "myFun('a', irst=\"Geeks\",mid=\"for\",last=\"Geeks\", 'b') --> will raise an error"
   ]
  },
  {
   "cell_type": "markdown",
   "id": "afraid-duplicate",
   "metadata": {},
   "source": [
    "---\n",
    "## Pandas dataframe\n",
    "\n",
    "\n",
    "https://pandas.pydata.org/pandas-docs/stable/user_guide/10min.html\n",
    "\n",
    "https://www.datacamp.com/tutorial/pandas-tutorial-dataframe-python\n"
   ]
  },
  {
   "cell_type": "code",
   "execution_count": 16,
   "id": "logical-challenge",
   "metadata": {
    "ExecuteTime": {
     "end_time": "2024-06-06T13:46:43.584980Z",
     "start_time": "2024-06-06T13:46:43.022241Z"
    }
   },
   "outputs": [
    {
     "name": "stdout",
     "output_type": "stream",
     "text": [
      "[  0.  10.  20.  30.  40.  50.  60.  70.  80.  90. 100.]\n"
     ]
    }
   ],
   "source": [
    "import pandas as pd\n",
    "\n",
    "df = pd.DataFrame(); # df is an empty data fram\n",
    "\n",
    "x = np.linspace(0,100,11) # x is an array of 11 elements equally spaced from 0 up to 50\n",
    "print(x)"
   ]
  },
  {
   "cell_type": "code",
   "execution_count": 17,
   "id": "junior-congo",
   "metadata": {
    "ExecuteTime": {
     "end_time": "2024-06-06T13:46:45.243462Z",
     "start_time": "2024-06-06T13:46:45.238953Z"
    }
   },
   "outputs": [],
   "source": [
    "y = 3*x + 10 # we can manipulate entire array :-)"
   ]
  },
  {
   "cell_type": "code",
   "execution_count": 18,
   "id": "careful-jones",
   "metadata": {
    "ExecuteTime": {
     "end_time": "2024-06-06T13:46:47.289679Z",
     "start_time": "2024-06-06T13:46:47.284225Z"
    }
   },
   "outputs": [
    {
     "name": "stdout",
     "output_type": "stream",
     "text": [
      "[ 10.  40.  70. 100. 130. 160. 190. 220. 250. 280. 310.]\n"
     ]
    }
   ],
   "source": [
    "print(y)"
   ]
  },
  {
   "cell_type": "code",
   "execution_count": 19,
   "id": "southern-roots",
   "metadata": {
    "ExecuteTime": {
     "end_time": "2024-06-06T13:46:47.684617Z",
     "start_time": "2024-06-06T13:46:47.658920Z"
    }
   },
   "outputs": [
    {
     "data": {
      "text/plain": "      x    out\n0   0.0   10.0\n1  10.0   40.0\n2  20.0   70.0\n3  30.0  100.0\n4  40.0  130.0",
      "text/html": "<div>\n<style scoped>\n    .dataframe tbody tr th:only-of-type {\n        vertical-align: middle;\n    }\n\n    .dataframe tbody tr th {\n        vertical-align: top;\n    }\n\n    .dataframe thead th {\n        text-align: right;\n    }\n</style>\n<table border=\"1\" class=\"dataframe\">\n  <thead>\n    <tr style=\"text-align: right;\">\n      <th></th>\n      <th>x</th>\n      <th>out</th>\n    </tr>\n  </thead>\n  <tbody>\n    <tr>\n      <th>0</th>\n      <td>0.0</td>\n      <td>10.0</td>\n    </tr>\n    <tr>\n      <th>1</th>\n      <td>10.0</td>\n      <td>40.0</td>\n    </tr>\n    <tr>\n      <th>2</th>\n      <td>20.0</td>\n      <td>70.0</td>\n    </tr>\n    <tr>\n      <th>3</th>\n      <td>30.0</td>\n      <td>100.0</td>\n    </tr>\n    <tr>\n      <th>4</th>\n      <td>40.0</td>\n      <td>130.0</td>\n    </tr>\n  </tbody>\n</table>\n</div>"
     },
     "execution_count": 19,
     "metadata": {},
     "output_type": "execute_result"
    }
   ],
   "source": [
    "df['x']=x # add the x array as a dataframe column ad name is as 'x'\n",
    "df['out']=y\n",
    "\n",
    "df.head()"
   ]
  },
  {
   "cell_type": "code",
   "execution_count": 20,
   "id": "recognized-pasta",
   "metadata": {
    "ExecuteTime": {
     "end_time": "2024-06-06T13:46:49.193776Z",
     "start_time": "2024-06-06T13:46:49.183154Z"
    }
   },
   "outputs": [],
   "source": [
    "df['z']= 2*df['x']-df['out']/2"
   ]
  },
  {
   "cell_type": "code",
   "execution_count": 21,
   "id": "received-distance",
   "metadata": {
    "ExecuteTime": {
     "end_time": "2024-06-06T13:46:49.445158Z",
     "start_time": "2024-06-06T13:46:49.421749Z"
    }
   },
   "outputs": [
    {
     "data": {
      "text/plain": "      x    out     z\n0   0.0   10.0  -5.0\n1  10.0   40.0   0.0\n2  20.0   70.0   5.0\n3  30.0  100.0  10.0\n4  40.0  130.0  15.0",
      "text/html": "<div>\n<style scoped>\n    .dataframe tbody tr th:only-of-type {\n        vertical-align: middle;\n    }\n\n    .dataframe tbody tr th {\n        vertical-align: top;\n    }\n\n    .dataframe thead th {\n        text-align: right;\n    }\n</style>\n<table border=\"1\" class=\"dataframe\">\n  <thead>\n    <tr style=\"text-align: right;\">\n      <th></th>\n      <th>x</th>\n      <th>out</th>\n      <th>z</th>\n    </tr>\n  </thead>\n  <tbody>\n    <tr>\n      <th>0</th>\n      <td>0.0</td>\n      <td>10.0</td>\n      <td>-5.0</td>\n    </tr>\n    <tr>\n      <th>1</th>\n      <td>10.0</td>\n      <td>40.0</td>\n      <td>0.0</td>\n    </tr>\n    <tr>\n      <th>2</th>\n      <td>20.0</td>\n      <td>70.0</td>\n      <td>5.0</td>\n    </tr>\n    <tr>\n      <th>3</th>\n      <td>30.0</td>\n      <td>100.0</td>\n      <td>10.0</td>\n    </tr>\n    <tr>\n      <th>4</th>\n      <td>40.0</td>\n      <td>130.0</td>\n      <td>15.0</td>\n    </tr>\n  </tbody>\n</table>\n</div>"
     },
     "execution_count": 21,
     "metadata": {},
     "output_type": "execute_result"
    }
   ],
   "source": [
    "df.head()"
   ]
  },
  {
   "cell_type": "code",
   "execution_count": 22,
   "id": "respiratory-selling",
   "metadata": {
    "ExecuteTime": {
     "end_time": "2024-06-06T13:46:49.632623Z",
     "start_time": "2024-06-06T13:46:49.612492Z"
    }
   },
   "outputs": [
    {
     "data": {
      "text/plain": "0       0.0\n1      10.0\n2      20.0\n3      30.0\n4      40.0\n5      50.0\n6      60.0\n7      70.0\n8      80.0\n9      90.0\n10    100.0\nName: x, dtype: float64"
     },
     "execution_count": 22,
     "metadata": {},
     "output_type": "execute_result"
    }
   ],
   "source": [
    "df['x'] # refers to the column named 'x' is the dataframe"
   ]
  },
  {
   "cell_type": "code",
   "execution_count": 23,
   "id": "authorized-floating",
   "metadata": {
    "ExecuteTime": {
     "end_time": "2024-06-06T13:46:49.804424Z",
     "start_time": "2024-06-06T13:46:49.782020Z"
    }
   },
   "outputs": [
    {
     "data": {
      "text/plain": "        x    out\n0     0.0   10.0\n1    10.0   40.0\n2    20.0   70.0\n3    30.0  100.0\n4    40.0  130.0\n5    50.0  160.0\n6    60.0  190.0\n7    70.0  220.0\n8    80.0  250.0\n9    90.0  280.0\n10  100.0  310.0",
      "text/html": "<div>\n<style scoped>\n    .dataframe tbody tr th:only-of-type {\n        vertical-align: middle;\n    }\n\n    .dataframe tbody tr th {\n        vertical-align: top;\n    }\n\n    .dataframe thead th {\n        text-align: right;\n    }\n</style>\n<table border=\"1\" class=\"dataframe\">\n  <thead>\n    <tr style=\"text-align: right;\">\n      <th></th>\n      <th>x</th>\n      <th>out</th>\n    </tr>\n  </thead>\n  <tbody>\n    <tr>\n      <th>0</th>\n      <td>0.0</td>\n      <td>10.0</td>\n    </tr>\n    <tr>\n      <th>1</th>\n      <td>10.0</td>\n      <td>40.0</td>\n    </tr>\n    <tr>\n      <th>2</th>\n      <td>20.0</td>\n      <td>70.0</td>\n    </tr>\n    <tr>\n      <th>3</th>\n      <td>30.0</td>\n      <td>100.0</td>\n    </tr>\n    <tr>\n      <th>4</th>\n      <td>40.0</td>\n      <td>130.0</td>\n    </tr>\n    <tr>\n      <th>5</th>\n      <td>50.0</td>\n      <td>160.0</td>\n    </tr>\n    <tr>\n      <th>6</th>\n      <td>60.0</td>\n      <td>190.0</td>\n    </tr>\n    <tr>\n      <th>7</th>\n      <td>70.0</td>\n      <td>220.0</td>\n    </tr>\n    <tr>\n      <th>8</th>\n      <td>80.0</td>\n      <td>250.0</td>\n    </tr>\n    <tr>\n      <th>9</th>\n      <td>90.0</td>\n      <td>280.0</td>\n    </tr>\n    <tr>\n      <th>10</th>\n      <td>100.0</td>\n      <td>310.0</td>\n    </tr>\n  </tbody>\n</table>\n</div>"
     },
     "execution_count": 23,
     "metadata": {},
     "output_type": "execute_result"
    }
   ],
   "source": [
    "df[ ['x','out'] ] # select multiple columns"
   ]
  },
  {
   "cell_type": "code",
   "execution_count": 24,
   "id": "complex-holocaust",
   "metadata": {
    "ExecuteTime": {
     "end_time": "2024-06-06T13:46:51.934929Z",
     "start_time": "2024-06-06T13:46:51.914904Z"
    }
   },
   "outputs": [
    {
     "data": {
      "text/plain": "x       0.0\nout    10.0\nz      -5.0\nName: 0, dtype: float64"
     },
     "execution_count": 24,
     "metadata": {},
     "output_type": "execute_result"
    }
   ],
   "source": [
    "df.iloc[0,] # we can access to the variuos dataframe rows and columns using indexes (as an array..)"
   ]
  },
  {
   "cell_type": "code",
   "execution_count": 25,
   "id": "divine-beach",
   "metadata": {
    "ExecuteTime": {
     "end_time": "2024-06-06T13:46:52.137805Z",
     "start_time": "2024-06-06T13:46:52.128928Z"
    }
   },
   "outputs": [
    {
     "data": {
      "text/plain": "      z    out\n0  -5.0   10.0\n1   0.0   40.0\n2   5.0   70.0\n3  10.0  100.0\n4  15.0  130.0\n5  20.0  160.0\n6  25.0  190.0\n7  30.0  220.0\n8  35.0  250.0\n9  40.0  280.0",
      "text/html": "<div>\n<style scoped>\n    .dataframe tbody tr th:only-of-type {\n        vertical-align: middle;\n    }\n\n    .dataframe tbody tr th {\n        vertical-align: top;\n    }\n\n    .dataframe thead th {\n        text-align: right;\n    }\n</style>\n<table border=\"1\" class=\"dataframe\">\n  <thead>\n    <tr style=\"text-align: right;\">\n      <th></th>\n      <th>z</th>\n      <th>out</th>\n    </tr>\n  </thead>\n  <tbody>\n    <tr>\n      <th>0</th>\n      <td>-5.0</td>\n      <td>10.0</td>\n    </tr>\n    <tr>\n      <th>1</th>\n      <td>0.0</td>\n      <td>40.0</td>\n    </tr>\n    <tr>\n      <th>2</th>\n      <td>5.0</td>\n      <td>70.0</td>\n    </tr>\n    <tr>\n      <th>3</th>\n      <td>10.0</td>\n      <td>100.0</td>\n    </tr>\n    <tr>\n      <th>4</th>\n      <td>15.0</td>\n      <td>130.0</td>\n    </tr>\n    <tr>\n      <th>5</th>\n      <td>20.0</td>\n      <td>160.0</td>\n    </tr>\n    <tr>\n      <th>6</th>\n      <td>25.0</td>\n      <td>190.0</td>\n    </tr>\n    <tr>\n      <th>7</th>\n      <td>30.0</td>\n      <td>220.0</td>\n    </tr>\n    <tr>\n      <th>8</th>\n      <td>35.0</td>\n      <td>250.0</td>\n    </tr>\n    <tr>\n      <th>9</th>\n      <td>40.0</td>\n      <td>280.0</td>\n    </tr>\n  </tbody>\n</table>\n</div>"
     },
     "execution_count": 25,
     "metadata": {},
     "output_type": "execute_result"
    }
   ],
   "source": [
    "mycols = ['z','out']\n",
    "df[mycols].head(n=10)"
   ]
  },
  {
   "cell_type": "code",
   "execution_count": 26,
   "id": "satellite-attribute",
   "metadata": {
    "ExecuteTime": {
     "end_time": "2024-06-06T13:46:52.328084Z",
     "start_time": "2024-06-06T13:46:52.311238Z"
    }
   },
   "outputs": [
    {
     "data": {
      "text/plain": "70.0"
     },
     "execution_count": 26,
     "metadata": {},
     "output_type": "execute_result"
    }
   ],
   "source": [
    "df['out'][2] # we can even mix the index formalism"
   ]
  },
  {
   "cell_type": "code",
   "execution_count": 27,
   "id": "representative-ecuador",
   "metadata": {
    "ExecuteTime": {
     "end_time": "2024-06-06T13:46:52.564264Z",
     "start_time": "2024-06-06T13:46:52.550919Z"
    }
   },
   "outputs": [
    {
     "data": {
      "text/plain": "      x   out    z\n2  20.0  70.0  5.0",
      "text/html": "<div>\n<style scoped>\n    .dataframe tbody tr th:only-of-type {\n        vertical-align: middle;\n    }\n\n    .dataframe tbody tr th {\n        vertical-align: top;\n    }\n\n    .dataframe thead th {\n        text-align: right;\n    }\n</style>\n<table border=\"1\" class=\"dataframe\">\n  <thead>\n    <tr style=\"text-align: right;\">\n      <th></th>\n      <th>x</th>\n      <th>out</th>\n      <th>z</th>\n    </tr>\n  </thead>\n  <tbody>\n    <tr>\n      <th>2</th>\n      <td>20.0</td>\n      <td>70.0</td>\n      <td>5.0</td>\n    </tr>\n  </tbody>\n</table>\n</div>"
     },
     "execution_count": 27,
     "metadata": {},
     "output_type": "execute_result"
    }
   ],
   "source": [
    "df.loc[df.x==20] # we can select a subset of data according with some logical expression on data values"
   ]
  },
  {
   "cell_type": "code",
   "execution_count": 28,
   "id": "frank-electricity",
   "metadata": {
    "ExecuteTime": {
     "end_time": "2024-06-06T13:46:52.751681Z",
     "start_time": "2024-06-06T13:46:52.728373Z"
    }
   },
   "outputs": [
    {
     "data": {
      "text/plain": "9      90.0\n10    100.0\nName: x, dtype: float64"
     },
     "execution_count": 28,
     "metadata": {},
     "output_type": "execute_result"
    }
   ],
   "source": [
    "df.loc[df.x>85]['x'] #extract the 'x' column only under a boolean expression :-)"
   ]
  },
  {
   "cell_type": "code",
   "execution_count": 33,
   "id": "bb59ea40-b063-4b9a-a456-5a9995d76e16",
   "metadata": {},
   "outputs": [
    {
     "name": "stdout",
     "output_type": "stream",
     "text": [
      "single value out    70.0\n",
      "z       5.0\n",
      "Name: 20.0, dtype: float64\n",
      "value list       out     z\n",
      "x              \n",
      "20   70.0   5.0\n",
      "40  130.0  15.0\n"
     ]
    }
   ],
   "source": [
    "df2 = df.set_index('x')\n",
    "\n",
    "print('single value', df2.loc[20])\n",
    "print('value list',df2.loc[[20,40]])"
   ]
  },
  {
   "cell_type": "code",
   "execution_count": 34,
   "id": "4a0242fd-c94e-47c1-89ff-9ed3cddd03ae",
   "metadata": {},
   "outputs": [
    {
     "data": {
      "text/html": [
       "<div>\n",
       "<style scoped>\n",
       "    .dataframe tbody tr th:only-of-type {\n",
       "        vertical-align: middle;\n",
       "    }\n",
       "\n",
       "    .dataframe tbody tr th {\n",
       "        vertical-align: top;\n",
       "    }\n",
       "\n",
       "    .dataframe thead th {\n",
       "        text-align: right;\n",
       "    }\n",
       "</style>\n",
       "<table border=\"1\" class=\"dataframe\">\n",
       "  <thead>\n",
       "    <tr style=\"text-align: right;\">\n",
       "      <th></th>\n",
       "      <th>x</th>\n",
       "      <th>out</th>\n",
       "      <th>z</th>\n",
       "    </tr>\n",
       "  </thead>\n",
       "  <tbody>\n",
       "    <tr>\n",
       "      <th>0</th>\n",
       "      <td>0.0</td>\n",
       "      <td>10.0</td>\n",
       "      <td>-5.0</td>\n",
       "    </tr>\n",
       "    <tr>\n",
       "      <th>1</th>\n",
       "      <td>10.0</td>\n",
       "      <td>40.0</td>\n",
       "      <td>0.0</td>\n",
       "    </tr>\n",
       "    <tr>\n",
       "      <th>2</th>\n",
       "      <td>20.0</td>\n",
       "      <td>70.0</td>\n",
       "      <td>5.0</td>\n",
       "    </tr>\n",
       "    <tr>\n",
       "      <th>3</th>\n",
       "      <td>30.0</td>\n",
       "      <td>100.0</td>\n",
       "      <td>10.0</td>\n",
       "    </tr>\n",
       "    <tr>\n",
       "      <th>4</th>\n",
       "      <td>40.0</td>\n",
       "      <td>130.0</td>\n",
       "      <td>15.0</td>\n",
       "    </tr>\n",
       "  </tbody>\n",
       "</table>\n",
       "</div>"
      ],
      "text/plain": [
       "      x    out     z\n",
       "0   0.0   10.0  -5.0\n",
       "1  10.0   40.0   0.0\n",
       "2  20.0   70.0   5.0\n",
       "3  30.0  100.0  10.0\n",
       "4  40.0  130.0  15.0"
      ]
     },
     "execution_count": 34,
     "metadata": {},
     "output_type": "execute_result"
    }
   ],
   "source": [
    "# del df['out']\n",
    "\n",
    "df.head()"
   ]
  },
  {
   "cell_type": "code",
   "execution_count": 35,
   "id": "1697c775-a887-473e-989e-a60c542a40a9",
   "metadata": {},
   "outputs": [
    {
     "data": {
      "text/html": [
       "<div>\n",
       "<style scoped>\n",
       "    .dataframe tbody tr th:only-of-type {\n",
       "        vertical-align: middle;\n",
       "    }\n",
       "\n",
       "    .dataframe tbody tr th {\n",
       "        vertical-align: top;\n",
       "    }\n",
       "\n",
       "    .dataframe thead th {\n",
       "        text-align: right;\n",
       "    }\n",
       "</style>\n",
       "<table border=\"1\" class=\"dataframe\">\n",
       "  <thead>\n",
       "    <tr style=\"text-align: right;\">\n",
       "      <th></th>\n",
       "      <th>fruit</th>\n",
       "      <th>customer</th>\n",
       "      <th>quantity</th>\n",
       "    </tr>\n",
       "  </thead>\n",
       "  <tbody>\n",
       "    <tr>\n",
       "      <th>0</th>\n",
       "      <td>apple</td>\n",
       "      <td>ben</td>\n",
       "      <td>1</td>\n",
       "    </tr>\n",
       "    <tr>\n",
       "      <th>1</th>\n",
       "      <td>orange</td>\n",
       "      <td>alice</td>\n",
       "      <td>2</td>\n",
       "    </tr>\n",
       "    <tr>\n",
       "      <th>2</th>\n",
       "      <td>apple</td>\n",
       "      <td>ben</td>\n",
       "      <td>3</td>\n",
       "    </tr>\n",
       "    <tr>\n",
       "      <th>3</th>\n",
       "      <td>avocado</td>\n",
       "      <td>josh</td>\n",
       "      <td>1</td>\n",
       "    </tr>\n",
       "    <tr>\n",
       "      <th>4</th>\n",
       "      <td>orange</td>\n",
       "      <td>steve</td>\n",
       "      <td>2</td>\n",
       "    </tr>\n",
       "  </tbody>\n",
       "</table>\n",
       "</div>"
      ],
      "text/plain": [
       "     fruit customer  quantity\n",
       "0    apple      ben         1\n",
       "1   orange    alice         2\n",
       "2    apple      ben         3\n",
       "3  avocado     josh         1\n",
       "4   orange    steve         2"
      ]
     },
     "metadata": {},
     "output_type": "display_data"
    }
   ],
   "source": [
    "df2 = pd.DataFrame(\n",
    "    {\n",
    "        \"fruit\": [\"apple\", \"orange\", \"apple\", \"avocado\", \"orange\"],\n",
    "        \"customer\": [\"ben\", \"alice\", \"ben\", \"josh\", \"steve\"],\n",
    "        \"quantity\": [1, 2, 3, 1, 2],\n",
    "    }\n",
    ")\n",
    "\n",
    "display(df2)"
   ]
  },
  {
   "cell_type": "code",
   "execution_count": 36,
   "id": "7bc22283-5b65-494e-b971-f1bf7af8affb",
   "metadata": {},
   "outputs": [
    {
     "data": {
      "text/html": [
       "<div>\n",
       "<style scoped>\n",
       "    .dataframe tbody tr th:only-of-type {\n",
       "        vertical-align: middle;\n",
       "    }\n",
       "\n",
       "    .dataframe tbody tr th {\n",
       "        vertical-align: top;\n",
       "    }\n",
       "\n",
       "    .dataframe thead th {\n",
       "        text-align: right;\n",
       "    }\n",
       "</style>\n",
       "<table border=\"1\" class=\"dataframe\">\n",
       "  <thead>\n",
       "    <tr style=\"text-align: right;\">\n",
       "      <th>fruit</th>\n",
       "      <th>apple</th>\n",
       "      <th>avocado</th>\n",
       "      <th>orange</th>\n",
       "    </tr>\n",
       "    <tr>\n",
       "      <th>customer</th>\n",
       "      <th></th>\n",
       "      <th></th>\n",
       "      <th></th>\n",
       "    </tr>\n",
       "  </thead>\n",
       "  <tbody>\n",
       "    <tr>\n",
       "      <th>alice</th>\n",
       "      <td>0</td>\n",
       "      <td>0</td>\n",
       "      <td>2</td>\n",
       "    </tr>\n",
       "    <tr>\n",
       "      <th>ben</th>\n",
       "      <td>4</td>\n",
       "      <td>0</td>\n",
       "      <td>0</td>\n",
       "    </tr>\n",
       "    <tr>\n",
       "      <th>josh</th>\n",
       "      <td>0</td>\n",
       "      <td>1</td>\n",
       "      <td>0</td>\n",
       "    </tr>\n",
       "    <tr>\n",
       "      <th>steve</th>\n",
       "      <td>0</td>\n",
       "      <td>0</td>\n",
       "      <td>2</td>\n",
       "    </tr>\n",
       "  </tbody>\n",
       "</table>\n",
       "</div>"
      ],
      "text/plain": [
       "fruit     apple  avocado  orange\n",
       "customer                        \n",
       "alice         0        0       2\n",
       "ben           4        0       0\n",
       "josh          0        1       0\n",
       "steve         0        0       2"
      ]
     },
     "execution_count": 36,
     "metadata": {},
     "output_type": "execute_result"
    }
   ],
   "source": [
    "df2.pivot_table(index=\"customer\", columns=\"fruit\", values=\"quantity\", \n",
    "               aggfunc=np.sum, fill_value=0)"
   ]
  },
  {
   "cell_type": "code",
   "execution_count": 37,
   "id": "122916e1-a76f-44ed-93ba-2933ced9d2ba",
   "metadata": {},
   "outputs": [
    {
     "data": {
      "text/html": [
       "<div>\n",
       "<style scoped>\n",
       "    .dataframe tbody tr th:only-of-type {\n",
       "        vertical-align: middle;\n",
       "    }\n",
       "\n",
       "    .dataframe tbody tr th {\n",
       "        vertical-align: top;\n",
       "    }\n",
       "\n",
       "    .dataframe thead th {\n",
       "        text-align: right;\n",
       "    }\n",
       "</style>\n",
       "<table border=\"1\" class=\"dataframe\">\n",
       "  <thead>\n",
       "    <tr style=\"text-align: right;\">\n",
       "      <th>customer</th>\n",
       "      <th>alice</th>\n",
       "      <th>ben</th>\n",
       "      <th>josh</th>\n",
       "      <th>steve</th>\n",
       "    </tr>\n",
       "    <tr>\n",
       "      <th>fruit</th>\n",
       "      <th></th>\n",
       "      <th></th>\n",
       "      <th></th>\n",
       "      <th></th>\n",
       "    </tr>\n",
       "  </thead>\n",
       "  <tbody>\n",
       "    <tr>\n",
       "      <th>apple</th>\n",
       "      <td>0</td>\n",
       "      <td>4</td>\n",
       "      <td>0</td>\n",
       "      <td>0</td>\n",
       "    </tr>\n",
       "    <tr>\n",
       "      <th>avocado</th>\n",
       "      <td>0</td>\n",
       "      <td>0</td>\n",
       "      <td>1</td>\n",
       "      <td>0</td>\n",
       "    </tr>\n",
       "    <tr>\n",
       "      <th>orange</th>\n",
       "      <td>2</td>\n",
       "      <td>0</td>\n",
       "      <td>0</td>\n",
       "      <td>2</td>\n",
       "    </tr>\n",
       "  </tbody>\n",
       "</table>\n",
       "</div>"
      ],
      "text/plain": [
       "customer  alice  ben  josh  steve\n",
       "fruit                            \n",
       "apple         0    4     0      0\n",
       "avocado       0    0     1      0\n",
       "orange        2    0     0      2"
      ]
     },
     "execution_count": 37,
     "metadata": {},
     "output_type": "execute_result"
    }
   ],
   "source": [
    "df2.pivot_table(index=\"fruit\", columns=\"customer\", values=\"quantity\", \n",
    "               aggfunc=np.sum, fill_value=0)\n",
    "# np.count_nonzero()"
   ]
  },
  {
   "cell_type": "markdown",
   "id": "naughty-colombia",
   "metadata": {},
   "source": [
    "---\n",
    "## Plots\n",
    "\n",
    "More inforation at: https://towardsdatascience.com/matplotlib-tutorial-learn-basics-of-pythons-powerful-plotting-library-b5d1b8f67596"
   ]
  },
  {
   "cell_type": "code",
   "execution_count": 38,
   "id": "forbidden-employment",
   "metadata": {},
   "outputs": [
    {
     "data": {
      "image/png": "[encoded data removed]",
      "text/plain": [
       "<Figure size 432x288 with 1 Axes>"
      ]
     },
     "metadata": {
      "needs_background": "light"
     },
     "output_type": "display_data"
    }
   ],
   "source": [
    "import matplotlib.pyplot as plt\n",
    "\n",
    "plt.plot(df['x'], df['out'])\n",
    "plt.xlabel('X axis label')\n",
    "plt.ylabel('Y axis label $\\mu$')\n",
    "plt.title('Plot Title');\n",
    "\n",
    "# plt.show()  # last statement in the main() function  \n",
    "# plt.show() is not required when using jupyter..."
   ]
  },
  {
   "cell_type": "code",
   "execution_count": 39,
   "id": "virgin-limitation",
   "metadata": {},
   "outputs": [
    {
     "data": {
      "image/png": "[encoded data removed]",
      "text/plain": [
       "<Figure size 576x432 with 1 Axes>"
      ]
     },
     "metadata": {
      "needs_background": "light"
     },
     "output_type": "display_data"
    }
   ],
   "source": [
    "plt.figure(figsize=(8,6))\n",
    "\n",
    "plt.plot(df['x'], df['out'], '.', color=\"red\", label='data')\n",
    "plt.plot(df['x'], df['z'], '|-', color=\"green\", label='linear')\n",
    "plt.legend(loc='upper left')\n",
    "plt.show()"
   ]
  },
  {
   "cell_type": "markdown",
   "id": "neutral-science",
   "metadata": {},
   "source": [
    "*Subplots*"
   ]
  },
  {
   "cell_type": "code",
   "execution_count": 40,
   "id": "eight-skirt",
   "metadata": {},
   "outputs": [
    {
     "data": {
      "image/png": "[encoded data removed]",
      "text/plain": [
       "<Figure size 432x288 with 2 Axes>"
      ]
     },
     "metadata": {
      "needs_background": "light"
     },
     "output_type": "display_data"
    }
   ],
   "source": [
    "plt.subplot( 1,2,1 )  # controlling the location of current plot\n",
    "plt.plot(df['x'], df['out'], color=\"red\")\n",
    "plt.subplot( 122 ) #an alternativa way to specify the plot location...\n",
    "plt.plot(df['x'], df['z'], color=\"green\");"
   ]
  },
  {
   "cell_type": "markdown",
   "id": "sophisticated-trouble",
   "metadata": {},
   "source": [
    "## lambda functions\n",
    "\n",
    "We want to aply some simple processing on each element of a collation withou having \n",
    "\n",
    "to write an explicit  function, that is, we want to write an <U><EM>anonymous</EM></U> function"
   ]
  },
  {
   "cell_type": "markdown",
   "id": "fifth-highlight",
   "metadata": {},
   "source": [
    "Because a lambda function is an expression, it can be named"
   ]
  },
  {
   "cell_type": "code",
   "execution_count": 41,
   "id": "pressed-aluminum",
   "metadata": {},
   "outputs": [],
   "source": [
    "incr = lambda x: x + 1"
   ]
  },
  {
   "cell_type": "code",
   "execution_count": 42,
   "id": "behind-cocktail",
   "metadata": {},
   "outputs": [
    {
     "data": {
      "text/plain": [
       "2"
      ]
     },
     "execution_count": 42,
     "metadata": {},
     "output_type": "execute_result"
    }
   ],
   "source": [
    "incr(1)"
   ]
  },
  {
   "cell_type": "code",
   "execution_count": 43,
   "id": "round-brighton",
   "metadata": {},
   "outputs": [
    {
     "data": {
      "text/plain": [
       "5"
      ]
     },
     "execution_count": 43,
     "metadata": {},
     "output_type": "execute_result"
    }
   ],
   "source": [
    "#alternative implementation\n",
    "def incr2(x):\n",
    "    return x+1\n",
    "\n",
    "incr2(4)"
   ]
  },
  {
   "cell_type": "markdown",
   "id": "piano-picnic",
   "metadata": {},
   "source": [
    "Lambda expression can uses many arguments (even with default values)"
   ]
  },
  {
   "cell_type": "code",
   "execution_count": 44,
   "id": "sexual-pension",
   "metadata": {},
   "outputs": [],
   "source": [
    "add = lambda a,b=1: a+b"
   ]
  },
  {
   "cell_type": "code",
   "execution_count": 45,
   "id": "prescription-connectivity",
   "metadata": {},
   "outputs": [
    {
     "data": {
      "text/plain": [
       "2"
      ]
     },
     "execution_count": 45,
     "metadata": {},
     "output_type": "execute_result"
    }
   ],
   "source": [
    "add(1,1)"
   ]
  },
  {
   "cell_type": "code",
   "execution_count": 46,
   "id": "oriental-terrain",
   "metadata": {},
   "outputs": [
    {
     "data": {
      "text/plain": [
       "3"
      ]
     },
     "execution_count": 46,
     "metadata": {},
     "output_type": "execute_result"
    }
   ],
   "source": [
    "add(2)"
   ]
  },
  {
   "cell_type": "code",
   "execution_count": 47,
   "id": "industrial-stuff",
   "metadata": {},
   "outputs": [
    {
     "data": {
      "text/plain": [
       "[1, 4, 9, 16]"
      ]
     },
     "execution_count": 47,
     "metadata": {},
     "output_type": "execute_result"
    }
   ],
   "source": [
    "data=np.array([1,2,3,4])\n",
    "[x**2 for x in data]"
   ]
  },
  {
   "cell_type": "code",
   "execution_count": 48,
   "id": "arabic-danish",
   "metadata": {},
   "outputs": [
    {
     "data": {
      "text/plain": [
       "[2, 3, 4, 5]"
      ]
     },
     "execution_count": 48,
     "metadata": {},
     "output_type": "execute_result"
    }
   ],
   "source": [
    "[incr(x) for x in data]"
   ]
  },
  {
   "cell_type": "code",
   "execution_count": 49,
   "id": "reasonable-hawaii",
   "metadata": {},
   "outputs": [
    {
     "data": {
      "text/plain": [
       "[2, 3, 4, 5]"
      ]
     },
     "execution_count": 49,
     "metadata": {},
     "output_type": "execute_result"
    }
   ],
   "source": [
    "[ (lambda x: x+1)(x)  for x in data]"
   ]
  },
  {
   "cell_type": "markdown",
   "id": "coupled-bulgarian",
   "metadata": {},
   "source": [
    "As slighty more complex example... (data normalization)"
   ]
  },
  {
   "cell_type": "code",
   "execution_count": 50,
   "id": "stretch-opinion",
   "metadata": {},
   "outputs": [
    {
     "data": {
      "text/plain": [
       "(1, 4)"
      ]
     },
     "execution_count": 50,
     "metadata": {},
     "output_type": "execute_result"
    }
   ],
   "source": [
    "data.min(), data.max()"
   ]
  },
  {
   "cell_type": "code",
   "execution_count": 51,
   "id": "greater-generation",
   "metadata": {},
   "outputs": [
    {
     "data": {
      "text/plain": [
       "0.0"
      ]
     },
     "execution_count": 51,
     "metadata": {},
     "output_type": "execute_result"
    }
   ],
   "source": [
    "(lambda x: (x - data.min()) / (data.max() - data.min()))(1)"
   ]
  },
  {
   "cell_type": "code",
   "execution_count": 52,
   "id": "acting-insulation",
   "metadata": {},
   "outputs": [
    {
     "data": {
      "text/plain": [
       "[0.0, 0.3333333333333333, 0.6666666666666666, 1.0]"
      ]
     },
     "execution_count": 52,
     "metadata": {},
     "output_type": "execute_result"
    }
   ],
   "source": [
    "[ (lambda x: (x - data.min()) / (data.max() - data.min()))(x) for x in data]"
   ]
  },
  {
   "cell_type": "markdown",
   "id": "cc34a53d-29b9-44db-9787-87ce53ae74ee",
   "metadata": {},
   "source": [
    "Apply and Lambda usage in pandas\n",
    "\n",
    "See:https://towardsdatascience.com/apply-and-lambda-usage-in-pandas-b13a1ea037f7"
   ]
  },
  {
   "cell_type": "code",
   "execution_count": 53,
   "id": "f2c00573-1c75-4438-83e6-a633f0b78641",
   "metadata": {},
   "outputs": [
    {
     "data": {
      "text/html": [
       "<div>\n",
       "<style scoped>\n",
       "    .dataframe tbody tr th:only-of-type {\n",
       "        vertical-align: middle;\n",
       "    }\n",
       "\n",
       "    .dataframe tbody tr th {\n",
       "        vertical-align: top;\n",
       "    }\n",
       "\n",
       "    .dataframe thead th {\n",
       "        text-align: right;\n",
       "    }\n",
       "</style>\n",
       "<table border=\"1\" class=\"dataframe\">\n",
       "  <thead>\n",
       "    <tr style=\"text-align: right;\">\n",
       "      <th></th>\n",
       "      <th>x</th>\n",
       "      <th>out</th>\n",
       "      <th>z</th>\n",
       "    </tr>\n",
       "  </thead>\n",
       "  <tbody>\n",
       "    <tr>\n",
       "      <th>0</th>\n",
       "      <td>0.0</td>\n",
       "      <td>10.0</td>\n",
       "      <td>-5.0</td>\n",
       "    </tr>\n",
       "    <tr>\n",
       "      <th>1</th>\n",
       "      <td>10.0</td>\n",
       "      <td>40.0</td>\n",
       "      <td>0.0</td>\n",
       "    </tr>\n",
       "    <tr>\n",
       "      <th>2</th>\n",
       "      <td>20.0</td>\n",
       "      <td>70.0</td>\n",
       "      <td>5.0</td>\n",
       "    </tr>\n",
       "    <tr>\n",
       "      <th>3</th>\n",
       "      <td>30.0</td>\n",
       "      <td>100.0</td>\n",
       "      <td>10.0</td>\n",
       "    </tr>\n",
       "    <tr>\n",
       "      <th>4</th>\n",
       "      <td>40.0</td>\n",
       "      <td>130.0</td>\n",
       "      <td>15.0</td>\n",
       "    </tr>\n",
       "    <tr>\n",
       "      <th>5</th>\n",
       "      <td>50.0</td>\n",
       "      <td>160.0</td>\n",
       "      <td>20.0</td>\n",
       "    </tr>\n",
       "    <tr>\n",
       "      <th>6</th>\n",
       "      <td>60.0</td>\n",
       "      <td>190.0</td>\n",
       "      <td>25.0</td>\n",
       "    </tr>\n",
       "    <tr>\n",
       "      <th>7</th>\n",
       "      <td>70.0</td>\n",
       "      <td>220.0</td>\n",
       "      <td>30.0</td>\n",
       "    </tr>\n",
       "    <tr>\n",
       "      <th>8</th>\n",
       "      <td>80.0</td>\n",
       "      <td>250.0</td>\n",
       "      <td>35.0</td>\n",
       "    </tr>\n",
       "    <tr>\n",
       "      <th>9</th>\n",
       "      <td>90.0</td>\n",
       "      <td>280.0</td>\n",
       "      <td>40.0</td>\n",
       "    </tr>\n",
       "    <tr>\n",
       "      <th>10</th>\n",
       "      <td>100.0</td>\n",
       "      <td>310.0</td>\n",
       "      <td>45.0</td>\n",
       "    </tr>\n",
       "  </tbody>\n",
       "</table>\n",
       "</div>"
      ],
      "text/plain": [
       "        x    out     z\n",
       "0     0.0   10.0  -5.0\n",
       "1    10.0   40.0   0.0\n",
       "2    20.0   70.0   5.0\n",
       "3    30.0  100.0  10.0\n",
       "4    40.0  130.0  15.0\n",
       "5    50.0  160.0  20.0\n",
       "6    60.0  190.0  25.0\n",
       "7    70.0  220.0  30.0\n",
       "8    80.0  250.0  35.0\n",
       "9    90.0  280.0  40.0\n",
       "10  100.0  310.0  45.0"
      ]
     },
     "execution_count": 53,
     "metadata": {},
     "output_type": "execute_result"
    }
   ],
   "source": [
    "df"
   ]
  },
  {
   "cell_type": "code",
   "execution_count": 54,
   "id": "366bcc52-20b4-42fa-b1a8-36251f670900",
   "metadata": {},
   "outputs": [],
   "source": [
    "def myfun(x,y):\n",
    "    if x >100 :\n",
    "        return x/2\n",
    "    else:\n",
    "        return x+y"
   ]
  },
  {
   "cell_type": "code",
   "execution_count": 55,
   "id": "8f4dbcde-b954-41c7-ad2b-f0e424ddba20",
   "metadata": {},
   "outputs": [
    {
     "data": {
      "text/plain": [
       "0      10.0\n",
       "1      50.0\n",
       "2      90.0\n",
       "3     130.0\n",
       "4      65.0\n",
       "5      80.0\n",
       "6      95.0\n",
       "7     110.0\n",
       "8     125.0\n",
       "9     140.0\n",
       "10    155.0\n",
       "dtype: float64"
      ]
     },
     "execution_count": 55,
     "metadata": {},
     "output_type": "execute_result"
    }
   ],
   "source": [
    "df.apply(lambda xxx: myfun(xxx['out'], xxx['x']), axis=1)"
   ]
  },
  {
   "cell_type": "markdown",
   "id": "approved-parts",
   "metadata": {},
   "source": [
    "## Cross Validation\n",
    "\n",
    "Create a simple dataframe consisting of two columns and ten rows\n"
   ]
  },
  {
   "cell_type": "code",
   "execution_count": 56,
   "id": "wooden-knock",
   "metadata": {},
   "outputs": [
    {
     "data": {
      "text/html": [
       "<div>\n",
       "<style scoped>\n",
       "    .dataframe tbody tr th:only-of-type {\n",
       "        vertical-align: middle;\n",
       "    }\n",
       "\n",
       "    .dataframe tbody tr th {\n",
       "        vertical-align: top;\n",
       "    }\n",
       "\n",
       "    .dataframe thead th {\n",
       "        text-align: right;\n",
       "    }\n",
       "</style>\n",
       "<table border=\"1\" class=\"dataframe\">\n",
       "  <thead>\n",
       "    <tr style=\"text-align: right;\">\n",
       "      <th></th>\n",
       "      <th>x</th>\n",
       "      <th>y</th>\n",
       "    </tr>\n",
       "  </thead>\n",
       "  <tbody>\n",
       "    <tr>\n",
       "      <th>0</th>\n",
       "      <td>1</td>\n",
       "      <td>101</td>\n",
       "    </tr>\n",
       "    <tr>\n",
       "      <th>1</th>\n",
       "      <td>2</td>\n",
       "      <td>102</td>\n",
       "    </tr>\n",
       "    <tr>\n",
       "      <th>2</th>\n",
       "      <td>3</td>\n",
       "      <td>103</td>\n",
       "    </tr>\n",
       "    <tr>\n",
       "      <th>3</th>\n",
       "      <td>4</td>\n",
       "      <td>104</td>\n",
       "    </tr>\n",
       "    <tr>\n",
       "      <th>4</th>\n",
       "      <td>5</td>\n",
       "      <td>105</td>\n",
       "    </tr>\n",
       "    <tr>\n",
       "      <th>5</th>\n",
       "      <td>6</td>\n",
       "      <td>106</td>\n",
       "    </tr>\n",
       "    <tr>\n",
       "      <th>6</th>\n",
       "      <td>7</td>\n",
       "      <td>107</td>\n",
       "    </tr>\n",
       "    <tr>\n",
       "      <th>7</th>\n",
       "      <td>8</td>\n",
       "      <td>108</td>\n",
       "    </tr>\n",
       "    <tr>\n",
       "      <th>8</th>\n",
       "      <td>9</td>\n",
       "      <td>109</td>\n",
       "    </tr>\n",
       "    <tr>\n",
       "      <th>9</th>\n",
       "      <td>10</td>\n",
       "      <td>110</td>\n",
       "    </tr>\n",
       "    <tr>\n",
       "      <th>10</th>\n",
       "      <td>11</td>\n",
       "      <td>111</td>\n",
       "    </tr>\n",
       "    <tr>\n",
       "      <th>11</th>\n",
       "      <td>12</td>\n",
       "      <td>112</td>\n",
       "    </tr>\n",
       "    <tr>\n",
       "      <th>12</th>\n",
       "      <td>13</td>\n",
       "      <td>113</td>\n",
       "    </tr>\n",
       "    <tr>\n",
       "      <th>13</th>\n",
       "      <td>14</td>\n",
       "      <td>114</td>\n",
       "    </tr>\n",
       "    <tr>\n",
       "      <th>14</th>\n",
       "      <td>15</td>\n",
       "      <td>115</td>\n",
       "    </tr>\n",
       "    <tr>\n",
       "      <th>15</th>\n",
       "      <td>16</td>\n",
       "      <td>116</td>\n",
       "    </tr>\n",
       "    <tr>\n",
       "      <th>16</th>\n",
       "      <td>17</td>\n",
       "      <td>117</td>\n",
       "    </tr>\n",
       "    <tr>\n",
       "      <th>17</th>\n",
       "      <td>18</td>\n",
       "      <td>118</td>\n",
       "    </tr>\n",
       "    <tr>\n",
       "      <th>18</th>\n",
       "      <td>19</td>\n",
       "      <td>119</td>\n",
       "    </tr>\n",
       "    <tr>\n",
       "      <th>19</th>\n",
       "      <td>20</td>\n",
       "      <td>120</td>\n",
       "    </tr>\n",
       "  </tbody>\n",
       "</table>\n",
       "</div>"
      ],
      "text/plain": [
       "     x    y\n",
       "0    1  101\n",
       "1    2  102\n",
       "2    3  103\n",
       "3    4  104\n",
       "4    5  105\n",
       "5    6  106\n",
       "6    7  107\n",
       "7    8  108\n",
       "8    9  109\n",
       "9   10  110\n",
       "10  11  111\n",
       "11  12  112\n",
       "12  13  113\n",
       "13  14  114\n",
       "14  15  115\n",
       "15  16  116\n",
       "16  17  117\n",
       "17  18  118\n",
       "18  19  119\n",
       "19  20  120"
      ]
     },
     "execution_count": 56,
     "metadata": {},
     "output_type": "execute_result"
    }
   ],
   "source": [
    "x=np.arange(1,21)\n",
    "y=x+100\n",
    "data=pd.DataFrame()\n",
    "data['x']=x\n",
    "data['y']=y\n",
    "data"
   ]
  },
  {
   "cell_type": "markdown",
   "id": "deadly-determination",
   "metadata": {},
   "source": [
    "Use sklean functions to split the dataset into training and testing (i.e., validation) ones"
   ]
  },
  {
   "cell_type": "code",
   "execution_count": 57,
   "id": "turned-condition",
   "metadata": {},
   "outputs": [],
   "source": [
    "from sklearn.model_selection import train_test_split\n",
    "\n",
    "data_train, data_test = train_test_split(data, test_size=.3, shuffle=True, random_state=2021)\n"
   ]
  },
  {
   "cell_type": "code",
   "execution_count": 58,
   "id": "collectible-jacob",
   "metadata": {},
   "outputs": [
    {
     "data": {
      "text/html": [
       "<div>\n",
       "<style scoped>\n",
       "    .dataframe tbody tr th:only-of-type {\n",
       "        vertical-align: middle;\n",
       "    }\n",
       "\n",
       "    .dataframe tbody tr th {\n",
       "        vertical-align: top;\n",
       "    }\n",
       "\n",
       "    .dataframe thead th {\n",
       "        text-align: right;\n",
       "    }\n",
       "</style>\n",
       "<table border=\"1\" class=\"dataframe\">\n",
       "  <thead>\n",
       "    <tr style=\"text-align: right;\">\n",
       "      <th></th>\n",
       "      <th>x</th>\n",
       "      <th>y</th>\n",
       "    </tr>\n",
       "  </thead>\n",
       "  <tbody>\n",
       "    <tr>\n",
       "      <th>8</th>\n",
       "      <td>9</td>\n",
       "      <td>109</td>\n",
       "    </tr>\n",
       "    <tr>\n",
       "      <th>16</th>\n",
       "      <td>17</td>\n",
       "      <td>117</td>\n",
       "    </tr>\n",
       "    <tr>\n",
       "      <th>11</th>\n",
       "      <td>12</td>\n",
       "      <td>112</td>\n",
       "    </tr>\n",
       "    <tr>\n",
       "      <th>7</th>\n",
       "      <td>8</td>\n",
       "      <td>108</td>\n",
       "    </tr>\n",
       "    <tr>\n",
       "      <th>5</th>\n",
       "      <td>6</td>\n",
       "      <td>106</td>\n",
       "    </tr>\n",
       "    <tr>\n",
       "      <th>1</th>\n",
       "      <td>2</td>\n",
       "      <td>102</td>\n",
       "    </tr>\n",
       "    <tr>\n",
       "      <th>18</th>\n",
       "      <td>19</td>\n",
       "      <td>119</td>\n",
       "    </tr>\n",
       "    <tr>\n",
       "      <th>14</th>\n",
       "      <td>15</td>\n",
       "      <td>115</td>\n",
       "    </tr>\n",
       "    <tr>\n",
       "      <th>15</th>\n",
       "      <td>16</td>\n",
       "      <td>116</td>\n",
       "    </tr>\n",
       "    <tr>\n",
       "      <th>6</th>\n",
       "      <td>7</td>\n",
       "      <td>107</td>\n",
       "    </tr>\n",
       "    <tr>\n",
       "      <th>17</th>\n",
       "      <td>18</td>\n",
       "      <td>118</td>\n",
       "    </tr>\n",
       "    <tr>\n",
       "      <th>12</th>\n",
       "      <td>13</td>\n",
       "      <td>113</td>\n",
       "    </tr>\n",
       "    <tr>\n",
       "      <th>13</th>\n",
       "      <td>14</td>\n",
       "      <td>114</td>\n",
       "    </tr>\n",
       "    <tr>\n",
       "      <th>0</th>\n",
       "      <td>1</td>\n",
       "      <td>101</td>\n",
       "    </tr>\n",
       "  </tbody>\n",
       "</table>\n",
       "</div>"
      ],
      "text/plain": [
       "     x    y\n",
       "8    9  109\n",
       "16  17  117\n",
       "11  12  112\n",
       "7    8  108\n",
       "5    6  106\n",
       "1    2  102\n",
       "18  19  119\n",
       "14  15  115\n",
       "15  16  116\n",
       "6    7  107\n",
       "17  18  118\n",
       "12  13  113\n",
       "13  14  114\n",
       "0    1  101"
      ]
     },
     "execution_count": 58,
     "metadata": {},
     "output_type": "execute_result"
    }
   ],
   "source": [
    "data_train"
   ]
  },
  {
   "cell_type": "code",
   "execution_count": 60,
   "id": "choice-mitchell",
   "metadata": {
    "tags": []
   },
   "outputs": [],
   "source": [
    "data_train = data_train.sort_values(by='x')\n",
    "data_test = data_test.sort_values(by='x')"
   ]
  },
  {
   "cell_type": "code",
   "execution_count": 61,
   "id": "protective-ghana",
   "metadata": {},
   "outputs": [
    {
     "data": {
      "text/plain": [
       "(     x    y\n",
       " 0    1  101\n",
       " 1    2  102\n",
       " 5    6  106\n",
       " 6    7  107\n",
       " 7    8  108\n",
       " 8    9  109\n",
       " 11  12  112\n",
       " 12  13  113\n",
       " 13  14  114\n",
       " 14  15  115\n",
       " 15  16  116\n",
       " 16  17  117\n",
       " 17  18  118\n",
       " 18  19  119,\n",
       "      x    y\n",
       " 2    3  103\n",
       " 3    4  104\n",
       " 4    5  105\n",
       " 9   10  110\n",
       " 10  11  111\n",
       " 19  20  120)"
      ]
     },
     "execution_count": 61,
     "metadata": {},
     "output_type": "execute_result"
    }
   ],
   "source": [
    "data_train, data_test"
   ]
  },
  {
   "cell_type": "code",
   "execution_count": 62,
   "id": "textile-fabric",
   "metadata": {},
   "outputs": [
    {
     "data": {
      "text/plain": [
       "[<matplotlib.lines.Line2D at 0x7fb989ff50a0>]"
      ]
     },
     "execution_count": 62,
     "metadata": {},
     "output_type": "execute_result"
    },
    {
     "data": {
      "image/png": "[encoded data removed]",
      "text/plain": [
       "<Figure size 432x288 with 1 Axes>"
      ]
     },
     "metadata": {
      "needs_background": "light"
     },
     "output_type": "display_data"
    }
   ],
   "source": [
    "plt.plot(data_train['x'], data_train['y'], '.')\n",
    "plt.plot(data_test['x'], data_test['y'], '.', color='red')"
   ]
  },
  {
   "cell_type": "markdown",
   "id": "pressing-earthquake",
   "metadata": {},
   "source": [
    "We can split directiling the target and train attributes"
   ]
  },
  {
   "cell_type": "code",
   "execution_count": 63,
   "id": "wooden-addiction",
   "metadata": {},
   "outputs": [],
   "source": [
    "(x_train, x_test, y_train, y_test) = train_test_split(data, y, test_size=.2, shuffle=False)"
   ]
  },
  {
   "cell_type": "code",
   "execution_count": 64,
   "id": "naughty-pressing",
   "metadata": {},
   "outputs": [
    {
     "data": {
      "text/plain": [
       "(     x    y\n",
       " 0    1  101\n",
       " 1    2  102\n",
       " 2    3  103\n",
       " 3    4  104\n",
       " 4    5  105\n",
       " 5    6  106\n",
       " 6    7  107\n",
       " 7    8  108\n",
       " 8    9  109\n",
       " 9   10  110\n",
       " 10  11  111\n",
       " 11  12  112\n",
       " 12  13  113\n",
       " 13  14  114\n",
       " 14  15  115\n",
       " 15  16  116,\n",
       "      x    y\n",
       " 16  17  117\n",
       " 17  18  118\n",
       " 18  19  119\n",
       " 19  20  120,\n",
       " array([101, 102, 103, 104, 105, 106, 107, 108, 109, 110, 111, 112, 113,\n",
       "        114, 115, 116]),\n",
       " array([117, 118, 119, 120]))"
      ]
     },
     "execution_count": 64,
     "metadata": {},
     "output_type": "execute_result"
    }
   ],
   "source": [
    "(x_train, x_test, y_train, y_test)"
   ]
  },
  {
   "cell_type": "markdown",
   "id": "acute-submission",
   "metadata": {},
   "source": [
    "## K-Fold Cross Validation"
   ]
  },
  {
   "cell_type": "code",
   "execution_count": 65,
   "id": "willing-internship",
   "metadata": {},
   "outputs": [],
   "source": [
    "from sklearn.model_selection import KFold\n",
    "\n",
    "# kf = KFold(n_splits=5)\n",
    "kf = KFold(n_splits=5, shuffle=True, random_state=1)"
   ]
  },
  {
   "cell_type": "code",
   "execution_count": 66,
   "id": "cellular-syndrome",
   "metadata": {},
   "outputs": [],
   "source": [
    "def kf_test(data, kf):\n",
    "    fold_id=1\n",
    "    for train,test in kf.split(data):\n",
    "        print('Fold %d Training'%fold_id)\n",
    "        print(data.iloc[train])\n",
    "        print('Fold %d Testing'%fold_id)\n",
    "        print(data.iloc[test])\n",
    "        fold_id = fold_id + 1\n",
    "    return"
   ]
  },
  {
   "cell_type": "markdown",
   "id": "sustainable-driver",
   "metadata": {},
   "source": [
    "We can shuffle the data before splitting"
   ]
  },
  {
   "cell_type": "code",
   "execution_count": 67,
   "id": "prime-witch",
   "metadata": {},
   "outputs": [
    {
     "name": "stdout",
     "output_type": "stream",
     "text": [
      "Fold 1 Training\n",
      "     x    y\n",
      "0    1  101\n",
      "1    2  102\n",
      "2    3  103\n",
      "4    5  105\n",
      "5    6  106\n",
      "7    8  108\n",
      "8    9  109\n",
      "9   10  110\n",
      "11  12  112\n",
      "12  13  113\n",
      "13  14  114\n",
      "14  15  115\n",
      "15  16  116\n",
      "17  18  118\n",
      "18  19  119\n",
      "19  20  120\n",
      "Fold 1 Testing\n",
      "     x    y\n",
      "3    4  104\n",
      "6    7  107\n",
      "10  11  111\n",
      "16  17  117\n",
      "Fold 2 Training\n",
      "     x    y\n",
      "0    1  101\n",
      "1    2  102\n",
      "3    4  104\n",
      "5    6  106\n",
      "6    7  107\n",
      "7    8  108\n",
      "8    9  109\n",
      "9   10  110\n",
      "10  11  111\n",
      "11  12  112\n",
      "12  13  113\n",
      "13  14  114\n",
      "15  16  116\n",
      "16  17  117\n",
      "18  19  119\n",
      "19  20  120\n",
      "Fold 2 Testing\n",
      "     x    y\n",
      "2    3  103\n",
      "4    5  105\n",
      "14  15  115\n",
      "17  18  118\n",
      "Fold 3 Training\n",
      "     x    y\n",
      "2    3  103\n",
      "3    4  104\n",
      "4    5  105\n",
      "5    6  106\n",
      "6    7  107\n",
      "8    9  109\n",
      "9   10  110\n",
      "10  11  111\n",
      "11  12  112\n",
      "12  13  113\n",
      "14  15  115\n",
      "15  16  116\n",
      "16  17  117\n",
      "17  18  118\n",
      "18  19  119\n",
      "19  20  120\n",
      "Fold 3 Testing\n",
      "     x    y\n",
      "0    1  101\n",
      "1    2  102\n",
      "7    8  108\n",
      "13  14  114\n",
      "Fold 4 Training\n",
      "     x    y\n",
      "0    1  101\n",
      "1    2  102\n",
      "2    3  103\n",
      "3    4  104\n",
      "4    5  105\n",
      "5    6  106\n",
      "6    7  107\n",
      "7    8  108\n",
      "8    9  109\n",
      "10  11  111\n",
      "11  12  112\n",
      "12  13  113\n",
      "13  14  114\n",
      "14  15  115\n",
      "16  17  117\n",
      "17  18  118\n",
      "Fold 4 Testing\n",
      "     x    y\n",
      "9   10  110\n",
      "15  16  116\n",
      "18  19  119\n",
      "19  20  120\n",
      "Fold 5 Training\n",
      "     x    y\n",
      "0    1  101\n",
      "1    2  102\n",
      "2    3  103\n",
      "3    4  104\n",
      "4    5  105\n",
      "6    7  107\n",
      "7    8  108\n",
      "9   10  110\n",
      "10  11  111\n",
      "13  14  114\n",
      "14  15  115\n",
      "15  16  116\n",
      "16  17  117\n",
      "17  18  118\n",
      "18  19  119\n",
      "19  20  120\n",
      "Fold 5 Testing\n",
      "     x    y\n",
      "5    6  106\n",
      "8    9  109\n",
      "11  12  112\n",
      "12  13  113\n"
     ]
    }
   ],
   "source": [
    "kf_test(data, kf)"
   ]
  },
  {
   "cell_type": "markdown",
   "id": "f43529be-f538-466c-a305-5dc766f41a82",
   "metadata": {},
   "source": [
    "### The pipeline approach"
   ]
  },
  {
   "cell_type": "raw",
   "id": "ee2c095b-f5e2-4205-a6b8-c94d17689d4b",
   "metadata": {},
   "source": [
    "from sklearn.pipeline import  make_pipeline\n",
    "from sklearn.preprocessing import StandardScaler\n",
    "from sklearn.model_selection import cross_val_score\n",
    "\n",
    "pipe = make_pipeline(\n",
    "    # SimpleImputer(missing_values=np.nan, strategy='most_frequent'),\n",
    "    StandardScaler(),\n",
    "    LinearRegression(random_state=42, max_iter=500),\n",
    ")\n",
    "\n",
    "# Create k-Fold cross-validation\n",
    "kf = KFold(n_splits=5, shuffle=True, random_state=2022)\n",
    "\n",
    "# Do k-fold cross-validation\n",
    "cv_results = cross_val_score(pipeline, # Pipeline\n",
    "                             X, # Feature matrix\n",
    "                             y, # Target vector\n",
    "                             cv=kf, # Cross-validation technique\n",
    "                             scoring=\"accuracy\", # Loss function\n",
    "                             n_jobs=-1) # Use all CPU scores\n",
    "\n",
    "# Calculate mean\n",
    "cv_results.mean()"
   ]
  },
  {
   "cell_type": "markdown",
   "id": "edf6709d-c9f8-432c-93f5-1ed2790cd951",
   "metadata": {},
   "source": [
    "# A simple introduction to Python classes"
   ]
  },
  {
   "cell_type": "code",
   "execution_count": 6,
   "id": "a50e4b1a-76cc-4451-9e49-2a2ee7b2387c",
   "metadata": {},
   "outputs": [
    {
     "name": "stdout",
     "output_type": "stream",
     "text": [
      "hello from Dice contructor\n",
      "hello from Dice contructor\n",
      "True\n",
      "dice 1 value 3\n",
      "dice 2 value 11\n",
      "dice 1 =  Hi I am a 6 faces dice, my current value is 3\n",
      "dice 2 =  Hi I am a 12 faces dice, my current value is 11\n",
      "dice 1 new value 4\n",
      "hello from Dice contructor\n",
      "dice 2 new value 6\n",
      "sum of dice values: 10\n",
      "sum of dice values: 10\n",
      "sum of dice values: 10\n",
      "hello from Dice contructor\n"
     ]
    },
    {
     "data": {
      "image/png": "[encoded data removed]",
      "text/plain": [
       "<Figure size 1008x432 with 2 Axes>"
      ]
     },
     "metadata": {
      "needs_background": "light"
     },
     "output_type": "display_data"
    }
   ],
   "source": [
    "import numpy as np\n",
    "import matplotlib.pyplot as plt\n",
    "\n",
    "class Dice:\n",
    "    def __init__(self, nfaces=6):\n",
    "        print(\"hello from Dice contructor\")\n",
    "        self.numberOfFaces = nfaces\n",
    "        self.numberOfRolls = 0\n",
    "        self.value = 0\n",
    "        self.roll()\n",
    "\n",
    "    def roll(self):\n",
    "        self.value = np.random.randint(1, self.numberOfFaces+1)\n",
    "        self.numberOfRolls = self.numberOfRolls + 1\n",
    "        return self.value\n",
    "\n",
    "    def rolls(self, times=1):\n",
    "        rolls = []\n",
    "        for i in range(times):\n",
    "            rolls.append(self.roll())\n",
    "\n",
    "        return rolls\n",
    "\n",
    "    def add(self, other_dice):\n",
    "        return self.value + other_dice.value\n",
    "\n",
    "    \n",
    "    def __add__(self, o):\n",
    "        return self.value + o.value\n",
    "    \n",
    "    def __str__(self):\n",
    "        return str(f\"Hi I am a {self.numberOfFaces} faces dice, my current value is {self.value}\")\n",
    "\n",
    "\n",
    "class RiggedDice(Dice):\n",
    "    def __init__(self, nfaces=6, rigged_value=1):\n",
    "        super().__init__(nfaces)\n",
    "        self.rigged_value = rigged_value\n",
    "\n",
    "    def roll(self):\n",
    "        super().roll()\n",
    "\n",
    "        if (self.numberOfRolls % 3) == 0:\n",
    "#                 print(\"tricked roll {} was {} and has been changed to {}\".format(self.numberOfRolls, self.value, self.rigged_value))\n",
    "            self.value = self.rigged_value\n",
    "\n",
    "        return self.value\n",
    "\n",
    "\n",
    "def main():\n",
    "    d1 = Dice()\n",
    "    d2 = Dice(12)\n",
    "\n",
    "    print(isinstance(d1, Dice))\n",
    "    \n",
    "    print('dice 1 value', d1.value)\n",
    "    print('dice 2 value', d2.value)\n",
    "    \n",
    "    print('dice 1 = ', d1)\n",
    "    print('dice 2 = ', d2)\n",
    "    \n",
    "    d1.roll()\n",
    "    print('dice 1 new value', d1.value)\n",
    "    d2 = Dice()\n",
    "    print('dice 2 new value', d2.value)\n",
    "    \n",
    "    print(\"sum of dice values:\", d1.add(d2))\n",
    "    print(\"sum of dice values:\", Dice.add(d1, d2))\n",
    "    print(\"sum of dice values:\", d1 + d2)\n",
    "    \n",
    "    d3 = RiggedDice()\n",
    "\n",
    "    rigged_rolls = d3.rolls(100)\n",
    "#     print('rigged dice rolls', rigged_rolls)\n",
    "    standard_rolls = d1.rolls(100)\n",
    "\n",
    "    plt.figure(figsize=(14,6))\n",
    "    plt.subplot(1,2,1)\n",
    "    plt.hist(standard_rolls, 6)\n",
    "    plt.title('Standard Dice')\n",
    "    plt.subplot(1,2,2)\n",
    "    plt.hist(rigged_rolls, 6)\n",
    "    plt.title('Ridged Dice')\n",
    "    plt.show()\n",
    "\n",
    "main()"
   ]
  },
  {
   "cell_type": "code",
   "execution_count": 69,
   "id": "42066660-811e-4bf2-9f3b-7d809ccb5c2a",
   "metadata": {},
   "outputs": [
    {
     "data": {
      "image/png": "[encoded data removed]",
      "text/plain": [
       "<Figure size 432x288 with 1 Axes>"
      ]
     },
     "metadata": {
      "needs_background": "light"
     },
     "output_type": "display_data"
    }
   ],
   "source": [
    "y=[10,4,5,8,20,3]\n",
    "\n",
    "plt.stem(y);"
   ]
  },
  {
   "cell_type": "code",
   "execution_count": 70,
   "id": "e8409df3-2263-460e-b128-f99010414fb7",
   "metadata": {},
   "outputs": [],
   "source": [
    "b = np.arange(1,10)"
   ]
  },
  {
   "cell_type": "code",
   "execution_count": null,
   "id": "ffc76ba4-c301-4187-8feb-d44f98dd4bad",
   "metadata": {},
   "outputs": [],
   "source": []
  },
  {
   "cell_type": "code",
   "execution_count": 71,
   "id": "ed10e874-d96b-466d-b72a-7d3e6638fa76",
   "metadata": {},
   "outputs": [],
   "source": [
    "b[8]=5\n",
    "idx = np.where(b==5)"
   ]
  },
  {
   "cell_type": "code",
   "execution_count": 72,
   "id": "bdb92087-857b-4d54-8e63-af690d77d819",
   "metadata": {},
   "outputs": [
    {
     "data": {
      "text/plain": [
       "(array([4, 8]),)"
      ]
     },
     "execution_count": 72,
     "metadata": {},
     "output_type": "execute_result"
    }
   ],
   "source": [
    "idx"
   ]
  },
  {
   "cell_type": "code",
   "execution_count": 73,
   "id": "75ca6b10-910d-41a6-b1ee-0aad3946e86b",
   "metadata": {},
   "outputs": [
    {
     "data": {
      "text/plain": [
       "array([[1, 2, 3],\n",
       "       [4, 5, 6],\n",
       "       [7, 8, 5]])"
      ]
     },
     "execution_count": 73,
     "metadata": {},
     "output_type": "execute_result"
    }
   ],
   "source": [
    "b = b.reshape(3,3)\n",
    "b"
   ]
  },
  {
   "cell_type": "code",
   "execution_count": 74,
   "id": "fdb75b86-5d0f-4657-8069-2e80b8138def",
   "metadata": {},
   "outputs": [
    {
     "data": {
      "text/plain": [
       "array([1, 2, 3, 4, 5, 6, 7, 8, 5])"
      ]
     },
     "execution_count": 74,
     "metadata": {},
     "output_type": "execute_result"
    }
   ],
   "source": [
    "b.ravel()"
   ]
  },
  {
   "cell_type": "code",
   "execution_count": 75,
   "id": "ad8a501f-337f-4bb2-8b07-a2dc10448c50",
   "metadata": {},
   "outputs": [
    {
     "data": {
      "text/plain": [
       "(1, 1)"
      ]
     },
     "execution_count": 75,
     "metadata": {},
     "output_type": "execute_result"
    }
   ],
   "source": [
    "np.unravel_index(4, (3,3))"
   ]
  },
  {
   "cell_type": "code",
   "execution_count": 76,
   "id": "adf22c86-15ae-4e68-a7ab-b5cec229338b",
   "metadata": {},
   "outputs": [
    {
     "data": {
      "text/plain": [
       "(2, 2)"
      ]
     },
     "execution_count": 76,
     "metadata": {},
     "output_type": "execute_result"
    }
   ],
   "source": [
    "np.unravel_index(8, (3,3))"
   ]
  },
  {
   "cell_type": "code",
   "execution_count": 77,
   "id": "9961f390-2ab1-4b72-a1fe-4454b9a0c793",
   "metadata": {},
   "outputs": [
    {
     "data": {
      "text/plain": [
       "[(0, 0),\n",
       " (1, 1),\n",
       " (2, 4),\n",
       " (3, 9),\n",
       " (4, 16),\n",
       " (5, 25),\n",
       " (6, 36),\n",
       " (7, 49),\n",
       " (8, 64),\n",
       " (9, 81)]"
      ]
     },
     "execution_count": 77,
     "metadata": {},
     "output_type": "execute_result"
    }
   ],
   "source": [
    "def f(x):\n",
    "    return x**2\n",
    "\n",
    "[ (i, f(i)) for i in range(10)]"
   ]
  },
  {
   "cell_type": "code",
   "execution_count": null,
   "id": "90ae3195-8789-4eff-9538-5132eb0114e4",
   "metadata": {},
   "outputs": [],
   "source": []
  }
 ],
 "metadata": {
  "kernelspec": {
   "display_name": "Python 3 (ipykernel)",
   "language": "python",
   "name": "python3"
  },
  "language_info": {
   "codemirror_mode": {
    "name": "ipython",
    "version": 3
   },
   "file_extension": ".py",
   "mimetype": "text/x-python",
   "name": "python",
   "nbconvert_exporter": "python",
   "pygments_lexer": "ipython3",
   "version": "3.8.10"
  }
 },
 "nbformat": 4,
 "nbformat_minor": 5
}
